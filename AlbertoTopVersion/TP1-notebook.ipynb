{
 "cells": [
  {
   "cell_type": "markdown",
   "metadata": {
    "collapsed": true,
    "deletable": true,
    "editable": true
   },
   "source": [
    "<h1 style=\"text-align:center\">Deep Learning  Lab Session </h1>\n",
    "<h1 style=\"text-align:center\">First Lab Session - 3 Hours </h1>\n",
    "<h1 style=\"text-align:center\">Artificial Neural Networks for Handwritten Digits Recognition</h1>"
   ]
  },
  {
   "cell_type": "markdown",
   "metadata": {
    "deletable": true,
    "editable": true
   },
   "source": [
    "<b> Student 1:</b> Benedetto Luca  \n",
    "<b> Student 2:</b> Ibarrondo Alberto\n",
    " \n",
    " \n",
    "The aim of this session is to practice with Artificial Neural Networks. Answers and experiments should be made by groups of one or two students. Each group should fill and run appropriate notebook cells. \n",
    "\n",
    "To generate your final report, use print as PDF (Ctrl+P). Do not forget to run all your cells before generating your final report and do not forget to include the names of all participants in the group. The lab session should be completed by April 7th 2017. "
   ]
  },
  {
   "cell_type": "markdown",
   "metadata": {
    "deletable": true,
    "editable": true
   },
   "source": [
    "# Introduction"
   ]
  },
  {
   "cell_type": "markdown",
   "metadata": {
    "deletable": true,
    "editable": true
   },
   "source": [
    "\n",
    "In this session, your will implement, train and test a Neural Network\n",
    "for the Handwritten Digits Recognition problem <a href=\"http://yann.lecun.com/exdb/mnist/\"> [1] </a> with  different settings of hyper parameters. You will use the MNIST dataset which was constructed from a number of scanned document dataset available from the National Institute of Standards and Technology (NIST). Images of digits were taken from a variety of scanned documents, normalized in size and centered. \n",
    "\n",
    "\n",
    "<img src=\"Nimages/mnist.png\",width=\"350\" height=\"500\" align=\"center\">\n",
    "<center><span>Figure 1: MNIST digits examples</span></center>\n",
    "\n",
    "\n",
    "This assignment includes a written part of programms to help you understand how to build and train\n",
    "your neural net and then to test your code and get restults. \n",
    "\n",
    "1. <a href=\"NNet.py\"> NeuralNetwork.py </a> \n",
    "2. <a href=\"transfer_functions.py\"> transfer_functions.py </a> \n",
    "3.  <a href=\"utils.py \"> utils.py </a> \n",
    "\n",
    "\n",
    "Functions defined inside the python files mentionned above can be imported  using the python command : \n",
    "from filename import *\n",
    "\n",
    "You will use the following libraries:\n",
    "\n",
    "1. <a href=\"http://cs231n.github.io/python-numpy-tutorial/\"> numpy </a>: for creating arrays and using methods to manipulate arrays.\n",
    "\n",
    "2. <a href=\"http://matplotlib.org/\"> matplotlib  </a>: for making plots\n",
    " \n",
    "\n",
    "\n",
    "\n",
    "\n",
    "\n",
    "\n"
   ]
  },
  {
   "cell_type": "markdown",
   "metadata": {
    "deletable": true,
    "editable": true
   },
   "source": [
    "# Section 1 :  My First Neural Network\n",
    "\n",
    "<b>Part 1</b>: Before designing and writing your code, you will first work on a neural network by hand. \n",
    "Consider the above Neural network with two inputs $X=(x1,x2)$, one hidden layers and a single output unit $(y)$.\n",
    "The initial weights are set to random values. Neurons 6 and 7 represent the bias. Bias values are equal to 1.  \n",
    "Training sample, X = (0.8, 0.2), whose class label is Y=0.4.\n",
    "\n",
    "Assume that the neurons have a Sigmoid activation function  $f(x)=\\frac{1}{(1+e^{-x})}$ and the learning rate $\\mu$=1\n",
    "\n",
    "\n",
    "<img src=\"Nimages/NN.png\", width=\"700\" height=\"900\"> \n",
    "<center><span>Figure 2: Neural network </span></center>\n",
    "\n",
    "\n",
    "<b>Question 1.1.1</b>: Compute the new values of weights $w_{i,j}$ after a forward pass and a backward pass.\n",
    "$w_{i,j}$ is the weight of the connexion between neuron $i$ and neuron $j$."
   ]
  },
  {
   "cell_type": "code",
   "execution_count": 1,
   "metadata": {
    "collapsed": false
   },
   "outputs": [],
   "source": [
    "import numpy as np\n",
    "import matplotlib as plt\n",
    "import NNet as nn\n",
    "import transfer_functions as tf"
   ]
  },
  {
   "cell_type": "code",
   "execution_count": 2,
   "metadata": {
    "collapsed": false
   },
   "outputs": [
    {
     "name": "stdout",
     "output_type": "stream",
     "text": [
      "w2 :  [[-0.62034179  0.38996086  0.47696756]]\n",
      "w1:  [[ 0.30345983 -0.50218887]\n",
      " [ 0.80086496  0.19945278]\n",
      " [ 0.20432479 -0.40273608]]\n"
     ]
    }
   ],
   "source": [
    "# Calculating manually all the values (printing has been supressed)\n",
    "# Initial values\n",
    "x = [0.8, 0.2, 1]\n",
    "w1 = [[0.3, -0.5], [0.8, 0.2], [0.2, -0.4]]\n",
    "w2 = [-0.6, 0.4, 0.5]\n",
    "y = 0.4\n",
    "u = 1\n",
    "\n",
    "#Feedforward computation\n",
    "u1 = np.append(np.dot(x, w1), 1.0)\n",
    "o1 = tf.sigmoid(u1)\n",
    "\n",
    "u2 = np.dot(o1, w2)\n",
    "o2 = tf.sigmoid(u2)\n",
    "\n",
    "\n",
    "#Backward computation\n",
    "E = (1.0/2.0)*((y-o2)**2.0)\n",
    "\n",
    "dEdu2 = (y-o2)*tf.dsigmoid(o2)\n",
    "dEdu1 = np.dot(w2, dEdu2)*tf.dsigmoid(o1)\n",
    "\n",
    "w2 += u*np.outer(dEdu2,o1)\n",
    "w1 += u*np.outer(x,dEdu1[:-1])\n",
    "\n",
    "print('w2 : ', w2)\n",
    "print('w1: ', w1)"
   ]
  },
  {
   "cell_type": "markdown",
   "metadata": {
    "collapsed": true,
    "deletable": true,
    "editable": true
   },
   "source": [
    "**Values Computed:\n",
    "\n",
    "$w_{1,3}=  0.30345983 $ \n",
    "\n",
    "$w_{1,4}=  -0.50218887 $\n",
    "\n",
    "$w_{2,3}= 0.80086496 $\n",
    "\n",
    "$w_{2,4}= 0.19945278 $\n",
    "\n",
    "$w_{6,3}= 0.20432479 $\n",
    "\n",
    "$w_{6,4}= -0.40273608 $\n",
    "\n",
    "$w_{3,5}= -0.62034179 $\n",
    "\n",
    "$w_{4,5}= 0.38996086 $\n",
    "\n",
    "$w_{7,5}= 0.47696756 $\n",
    "\n",
    "\n"
   ]
  },
  {
   "cell_type": "markdown",
   "metadata": {
    "deletable": true,
    "editable": true
   },
   "source": [
    "<b>Part 2</b>: Neural Network Implementation\n",
    "\n",
    "Please read all source files carefully and understand the data structures and all functions.\n",
    "You are to complete the missing code. \n",
    "First you should define the neural network (using the NeuralNetwork class, see in the <a href=\"NeuralNetwork.py\"> NeuralNetwork.py </a> file) and reinitialise weights. \n",
    "Then you will to complete the Feed Forward and the Back-propagation functions. \n",
    "\n",
    "<b>Question 1.2.1</b>: Define the neural network corresponding to the one in part 1"
   ]
  },
  {
   "cell_type": "code",
   "execution_count": 3,
   "metadata": {
    "collapsed": false,
    "deletable": true,
    "editable": true
   },
   "outputs": [],
   "source": [
    "#create the network\n",
    "my_nnet = nn.NNet(n_input=2,netDims=[2,1],learn=1)"
   ]
  },
  {
   "cell_type": "code",
   "execution_count": 4,
   "metadata": {
    "collapsed": false,
    "deletable": true,
    "editable": true
   },
   "outputs": [
    {
     "name": "stdout",
     "output_type": "stream",
     "text": [
      "[array([[ 0.3, -0.5],\n",
      "       [ 0.8,  0.2],\n",
      "       [ 0.2, -0.4]]), array([[-0.6],\n",
      "       [ 0.4],\n",
      "       [ 0.5]])]\n"
     ]
    }
   ],
   "source": [
    "#Data preparation\n",
    "X=[0.8,0.2]\n",
    "Y=[0.4]\n",
    "\n",
    "#initialize weights\n",
    "wi=np.array([[0.3,-0.5],[0.8,0.2],[0.2,-0.4]])\n",
    "wo=np.array([[-0.6],[0.4],[0.5]])\n",
    "\n",
    "my_nnet.init_w([wi,wo])\n",
    "print(my_nnet.W)"
   ]
  },
  {
   "cell_type": "markdown",
   "metadata": {
    "deletable": true,
    "editable": true
   },
   "source": [
    "<b>Question 1.2.2</b>: Implement the Feed Forward function (feedForward(X) in the NeuralNetwork.py file)\n",
    "\n"
   ]
  },
  {
   "cell_type": "raw",
   "metadata": {
    "collapsed": true
   },
   "source": [
    "def feedForward(selfa, inputs):\n",
    "    # Set input, leaving bias neuron untouched. Compute first activation\n",
    "    selfa.input[0:selfa.n_input-1] = inputs\n",
    "    selfa.values[0] = selfa.tf(np.append(np.dot(selfa.input, selfa.W[0]), 1.0))\n",
    "    \n",
    "    #Compute  hidden activations, all hidden layers except last one (output)\n",
    "    for layer in range(1, selfa.n_layers-1):\n",
    "        selfa.values[layer] = selfa.tf(np.append\n",
    "               ( np.dot(selfa.values[layer-1], selfa.W[layer]), 1.0))\n",
    "\n",
    "    # Compute output activations, without append since there is no bias neuron\n",
    "    selfa.values[-1] = selfa.tf(np.dot(selfa.values[-2], selfa.W[-1]))\n",
    "    selfa.output = selfa.values[-1]\n",
    "    \n",
    "    return selfa.values[-1]"
   ]
  },
  {
   "cell_type": "markdown",
   "metadata": {
    "deletable": true,
    "editable": true
   },
   "source": [
    "Check your network outputs the expected value (the one you computed in question 1.1)"
   ]
  },
  {
   "cell_type": "code",
   "execution_count": 6,
   "metadata": {
    "collapsed": false,
    "deletable": true,
    "editable": true
   },
   "outputs": [
    {
     "name": "stdout",
     "output_type": "stream",
     "text": [
      "output activation =0.526\n"
     ]
    }
   ],
   "source": [
    "# test my  Feed Forward function \n",
    "Output_activation=my_nnet.feedForward(X)\n",
    "print(\"output activation =%.3f\" %(Output_activation))"
   ]
  },
  {
   "cell_type": "markdown",
   "metadata": {
    "deletable": true,
    "editable": true
   },
   "source": [
    "<b>Question 1.2.3</b>: Implement the Back-propagation Algorithm (backPropagate(Y) in the NeuralNetwork.py file)  \n"
   ]
  },
  {
   "cell_type": "raw",
   "metadata": {
    "collapsed": false,
    "deletable": true,
    "editable": true
   },
   "source": [
    "def backPropagate(selfa, targets):\n",
    "    selfa.dEdU[-1] = (selfa.output-targets)*selfa.dtf(selfa.output)\n",
    "\n",
    "    # calculate error terms for hidden layers\n",
    "    for layer in range(selfa.n_layers-1, 0, -1):\n",
    "        selfa.dEdU[layer-1] = np.multiply(np.dot(selfa.W[layer],selfa.dEdU[layer]),\\\n",
    "                                       selfa.dtf(selfa.values[layer-1]))\n",
    "\n",
    "    # update network weights\n",
    "    selfa.W[-1] -= selfa.learn * np.outer(selfa.values[-2], selfa.dEdU[-1])\n",
    "\n",
    "    for layer in range(1, selfa.n_layers-1):\n",
    "        selfa.W[layer] -= selfa.learn * np.outer(selfa.values[layer-1],selfa.dEdU[layer][:-1])\n",
    "    selfa.W[0] -= selfa.learn * np.outer(selfa.input, selfa.dEdU[0][:-1])\n",
    "\n",
    "    # calculate error\n",
    "    E = (1.0/2.0)*((targets-selfa.output)**2.0)"
   ]
  },
  {
   "cell_type": "markdown",
   "metadata": {
    "deletable": true,
    "editable": true
   },
   "source": [
    "Check the gradient values and weight updates are correct (similar to the ones you computed in question 1.1)"
   ]
  },
  {
   "cell_type": "code",
   "execution_count": 7,
   "metadata": {
    "collapsed": false,
    "deletable": true,
    "editable": true
   },
   "outputs": [
    {
     "name": "stdout",
     "output_type": "stream",
     "text": [
      "[[-0.62034179  0.38996086  0.47696756]]\n",
      "[[-0.62034179  0.38996086  0.47696756]]\n",
      "[[ True  True  True]]\n",
      "[[ 0.30345983 -0.50218887]\n",
      " [ 0.80086496  0.19945278]\n",
      " [ 0.20432479 -0.40273608]]\n",
      "[[ 0.30345983 -0.50218887]\n",
      " [ 0.80086496  0.19945278]\n",
      " [ 0.20432479 -0.40273608]]\n",
      "[[ True  True]\n",
      " [ True  True]\n",
      " [ True  True]]\n"
     ]
    }
   ],
   "source": [
    "#test Back-propagation function\n",
    "wi=np.array([[0.3,-0.5],[0.8,0.2],[0.2,-0.4]])\n",
    "wo=np.array([[-0.6],[0.4],[0.5]])\n",
    "my_nnet.init_w([wi,wo])\n",
    "Output_activation=my_nnet.feedForward(X)\n",
    "my_nnet.backPropagate(Y)\n",
    "\n",
    "#Print weights after backpropagation and comparing\n",
    "print(w2)\n",
    "print(my_nnet.W[-1].T)\n",
    "print(my_nnet.W[-1].T==w2)\n",
    "print(w1)\n",
    "print(my_nnet.W[0])\n",
    "print(my_nnet.W[0]==w1)"
   ]
  },
  {
   "cell_type": "markdown",
   "metadata": {
    "deletable": true,
    "editable": true
   },
   "source": [
    "Your Feed Forward and Back-Propagation implementations are working, Great!! Let's tackle a real world problem."
   ]
  },
  {
   "cell_type": "markdown",
   "metadata": {
    "collapsed": true,
    "deletable": true,
    "editable": true
   },
   "source": [
    "# Section 2 : The MNIST Challenge! "
   ]
  },
  {
   "cell_type": "markdown",
   "metadata": {
    "deletable": true,
    "editable": true
   },
   "source": [
    "<b>Data Preparation</b>\n",
    "\n",
    "The MNIST dataset consists of handwritten digit images it contains 60,000 examples for the training set and 10,000 examples for testing. In this Lab Session, the official training set of 60,000 is divided into an actual training set of 50,000 examples, 10,000 validation examples and 10,000 examples for test. All digit images have been size-normalized and centered in a fixed size image of 28 x 28 pixels. The images are stored in byte form you will use the NumPy python library to read the data files into NumPy arrays that we will use to train the ANN.\n",
    "\n",
    "The MNIST dataset is available in the Data folder.\n",
    "To get the training, testing and validation data, run the the load_data() function.\n"
   ]
  },
  {
   "cell_type": "code",
   "execution_count": 8,
   "metadata": {
    "collapsed": false,
    "deletable": true,
    "editable": true
   },
   "outputs": [],
   "source": [
    "from utils import *\n",
    "import gzip\n",
    "\n",
    "np.random.seed(1990)\n",
    "\n",
    "with gzip.open('mnist.pkl.gz', 'r') as f:\n",
    "        train_set, valid_set, test_set = pickle.load(f, encoding='latin1')\n",
    "f.close()\n",
    "\n",
    "training_data = [(train_set[0][i], [1 if j == train_set[1][i] else 0 for j in range(10)]) \\\n",
    "            for i in np.arange(len(train_set[0]))]\n",
    "test_data = [(test_set[0][i], [1 if j == test_set[1][i] else 0 for j in range(10)]) \\\n",
    "            for i in np.arange(len(test_set[0]))]\n",
    "validation_data = [(valid_set[0][i], [1 if j == valid_set[1][i] else 0 for j in range(10)]) \\\n",
    "                    for i in np.arange(len(valid_set[0]))]"
   ]
  },
  {
   "cell_type": "markdown",
   "metadata": {
    "deletable": true,
    "editable": true
   },
   "source": [
    "<b>MNIST Dataset Digits Visualisation</b>"
   ]
  },
  {
   "cell_type": "code",
   "execution_count": 9,
   "metadata": {
    "collapsed": false,
    "deletable": true,
    "editable": true
   },
   "outputs": [
    {
     "data": {
      "image/png": "[encoded data removed]",
      "text/plain": [
       "<matplotlib.figure.Figure at 0x18cc25fc208>"
      ]
     },
     "metadata": {},
     "output_type": "display_data"
    }
   ],
   "source": [
    "ROW = 2\n",
    "COLUMN = 4\n",
    "for i in range(ROW * COLUMN):\n",
    "    # train[i][0] is i-th image data with size 28x28\n",
    "    image = training_data[i][0].reshape(28, 28)   \n",
    "    plt.subplot(ROW, COLUMN, i+1)          \n",
    "    plt.imshow(image, cmap='gray')  # cmap='gray' is for black and white picture.\n",
    "plt.axis('off')  # do not show axis value\n",
    "plt.tight_layout()   # automatic padding between subplots\n",
    "plt.show()\n",
    "\n"
   ]
  },
  {
   "cell_type": "markdown",
   "metadata": {
    "deletable": true,
    "editable": true
   },
   "source": [
    "<b>Part 1</b>: Creating the Neural Networks\n",
    "\n",
    "The input layer of the neural network contains neurons encoding the values of the input pixels. The training data for the network will consist of many 28 by 28 pixel images of scanned handwritten digits, and so the input layer contains 784=28×28 neurons. The second layer of the network is a hidden layer, we set the neuron number in the hidden layer to 30. The output layer contains 10 neurons. \n",
    "\n",
    "<b>Question 2.1.1</b>: Create the network described above using the NeuralNetwork class"
   ]
  },
  {
   "cell_type": "code",
   "execution_count": 51,
   "metadata": {
    "collapsed": false,
    "deletable": true,
    "editable": true
   },
   "outputs": [],
   "source": [
    "#create the network\n",
    "my_mnist_net = nn.NNet(n_input=784, netDims=[30,10], n_iter=50, learn=0.1)"
   ]
  },
  {
   "cell_type": "markdown",
   "metadata": {
    "deletable": true,
    "editable": true
   },
   "source": [
    "<b>Question 2.1.2</b>: Add the information about the performance of the neural network on the test set at each epoch"
   ]
  },
  {
   "cell_type": "code",
   "execution_count": 53,
   "metadata": {
    "collapsed": false,
    "deletable": true,
    "editable": true
   },
   "outputs": [
    {
     "name": "stdout",
     "output_type": "stream",
     "text": [
      "Test_Accuracy  11.13\n"
     ]
    }
   ],
   "source": [
    "test_accuracy=my_mnist_net.predict(test_data)/100\n",
    "print('Test_Accuracy  %-2.2f' % test_accuracy)"
   ]
  },
  {
   "cell_type": "markdown",
   "metadata": {
    "deletable": true,
    "editable": true
   },
   "source": [
    "<b>Question 2.1.3</b>: Train the Neural Network and comment your findings"
   ]
  },
  {
   "cell_type": "code",
   "execution_count": 54,
   "metadata": {
    "collapsed": false,
    "deletable": true,
    "editable": true,
    "scrolled": true
   },
   "outputs": [
    {
     "name": "stdout",
     "output_type": "stream",
     "text": [
      "iter:  1/50 --> E: 0.1140983205  -Training_Accuracy:  92.18  -t: 7.78 \n",
      "iter:  2/50 --> E: 0.0571260633  -Training_Accuracy:  94.19  -t: 15.86 \n",
      "iter:  3/50 --> E: 0.0475068251  -Training_Accuracy:  94.92  -t: 23.76 \n",
      "iter:  4/50 --> E: 0.0423505478  -Training_Accuracy:  95.57  -t: 31.79 \n",
      "iter:  5/50 --> E: 0.0387756522  -Training_Accuracy:  95.94  -t: 39.81 \n",
      "iter:  6/50 --> E: 0.0362521723  -Training_Accuracy:  96.20  -t: 47.69 \n",
      "iter:  7/50 --> E: 0.0343207111  -Training_Accuracy:  96.58  -t: 55.53 \n",
      "iter:  8/50 --> E: 0.0326897272  -Training_Accuracy:  96.80  -t: 63.61 \n",
      "iter:  9/50 --> E: 0.0313635147  -Training_Accuracy:  96.98  -t: 71.59 \n",
      "iter: 10/50 --> E: 0.0299157020  -Training_Accuracy:  97.06  -t: 79.32 \n",
      "iter: 11/50 --> E: 0.0289311636  -Training_Accuracy:  97.21  -t: 87.21 \n",
      "iter: 12/50 --> E: 0.0278421202  -Training_Accuracy:  97.14  -t: 95.10 \n",
      "iter: 13/50 --> E: 0.0271694453  -Training_Accuracy:  97.41  -t: 102.84 \n",
      "iter: 14/50 --> E: 0.0261588090  -Training_Accuracy:  97.44  -t: 110.83 \n",
      "iter: 15/50 --> E: 0.0256627048  -Training_Accuracy:  97.58  -t: 118.67 \n",
      "iter: 16/50 --> E: 0.0248917074  -Training_Accuracy:  97.59  -t: 126.52 \n",
      "iter: 17/50 --> E: 0.0243151963  -Training_Accuracy:  97.64  -t: 134.41 \n",
      "iter: 18/50 --> E: 0.0234972859  -Training_Accuracy:  97.65  -t: 142.65 \n",
      "iter: 19/50 --> E: 0.0230518583  -Training_Accuracy:  97.79  -t: 151.24 \n",
      "iter: 20/50 --> E: 0.0225129605  -Training_Accuracy:  97.88  -t: 159.69 \n",
      "iter: 21/50 --> E: 0.0218800125  -Training_Accuracy:  97.86  -t: 167.95 \n",
      "iter: 22/50 --> E: 0.0213115097  -Training_Accuracy:  97.80  -t: 175.84 \n",
      "iter: 23/50 --> E: 0.0208247496  -Training_Accuracy:  98.05  -t: 184.11 \n",
      "iter: 24/50 --> E: 0.0204606219  -Training_Accuracy:  98.10  -t: 193.18 \n",
      "iter: 25/50 --> E: 0.0200735453  -Training_Accuracy:  98.10  -t: 201.53 \n",
      "iter: 26/50 --> E: 0.0196188383  -Training_Accuracy:  98.18  -t: 209.86 \n",
      "iter: 27/50 --> E: 0.0193813613  -Training_Accuracy:  98.23  -t: 218.10 \n",
      "iter: 28/50 --> E: 0.0187880764  -Training_Accuracy:  98.08  -t: 226.45 \n",
      "iter: 29/50 --> E: 0.0184038937  -Training_Accuracy:  97.95  -t: 235.11 \n",
      "iter: 30/50 --> E: 0.0181915338  -Training_Accuracy:  98.24  -t: 244.44 \n",
      "iter: 31/50 --> E: 0.0178311727  -Training_Accuracy:  98.26  -t: 253.23 \n",
      "iter: 32/50 --> E: 0.0175555366  -Training_Accuracy:  98.29  -t: 261.57 \n",
      "iter: 33/50 --> E: 0.0172243295  -Training_Accuracy:  98.30  -t: 269.88 \n",
      "iter: 34/50 --> E: 0.0169718507  -Training_Accuracy:  98.31  -t: 278.05 \n",
      "iter: 35/50 --> E: 0.0167487700  -Training_Accuracy:  98.43  -t: 286.27 \n",
      "iter: 36/50 --> E: 0.0164119890  -Training_Accuracy:  98.37  -t: 294.45 \n",
      "iter: 37/50 --> E: 0.0161441760  -Training_Accuracy:  98.51  -t: 302.69 \n",
      "iter: 38/50 --> E: 0.0158612572  -Training_Accuracy:  98.49  -t: 310.78 \n",
      "iter: 39/50 --> E: 0.0156166895  -Training_Accuracy:  98.44  -t: 318.84 \n",
      "iter: 40/50 --> E: 0.0155289975  -Training_Accuracy:  98.40  -t: 326.86 \n",
      "iter: 41/50 --> E: 0.0151596716  -Training_Accuracy:  98.45  -t: 334.98 \n",
      "iter: 42/50 --> E: 0.0149946933  -Training_Accuracy:  98.54  -t: 343.08 \n",
      "iter: 43/50 --> E: 0.0147169182  -Training_Accuracy:  98.49  -t: 351.15 \n",
      "iter: 44/50 --> E: 0.0145185847  -Training_Accuracy:  98.51  -t: 359.24 \n",
      "iter: 45/50 --> E: 0.0142749320  -Training_Accuracy:  98.59  -t: 367.42 \n",
      "iter: 46/50 --> E: 0.0140398048  -Training_Accuracy:  98.61  -t: 375.47 \n",
      "iter: 47/50 --> E: 0.0139243130  -Training_Accuracy:  98.43  -t: 383.62 \n",
      "iter: 48/50 --> E: 0.0138572299  -Training_Accuracy:  98.58  -t: 391.69 \n",
      "iter: 49/50 --> E: 0.0135307173  -Training_Accuracy:  98.59  -t: 399.75 \n",
      "iter: 50/50 --> E: 0.0133422403  -Training_Accuracy:  98.61  -t: 407.93 \n"
     ]
    },
    {
     "data": {
      "image/png": "[encoded data removed]",
      "text/plain": [
       "<matplotlib.figure.Figure at 0x18ccf883e80>"
      ]
     },
     "metadata": {},
     "output_type": "display_data"
    }
   ],
   "source": [
    "#train your network \n",
    "Tr_acc1, Val_acc1 = my_mnist_net.train(training_data,validation_data, True, True, True)"
   ]
  },
  {
   "cell_type": "code",
   "execution_count": 23,
   "metadata": {
    "collapsed": false
   },
   "outputs": [
    {
     "data": {
      "image/png": "[encoded data removed]",
      "text/plain": [
       "<matplotlib.figure.Figure at 0x19bcddded68>"
      ]
     },
     "metadata": {},
     "output_type": "display_data"
    }
   ],
   "source": [
    "tr_plot = plt.plot(range(1,21), Training_accuracies, label='training_data')\n",
    "val_plot = plt.plot(range(1,21), Validation_accuracies, label='validation_data')\n",
    "plt.xlabel('Nº Iteration')\n",
    "plt.ylabel('Accuracy (%)')\n",
    "plt.legend()\n",
    "plt.show()"
   ]
  },
  {
   "cell_type": "code",
   "execution_count": 26,
   "metadata": {
    "collapsed": false
   },
   "outputs": [],
   "source": [
    " with open(\"mnist_nD30-10_it20_l01.model\", 'wb') as f:\n",
    "            pickle.dump({'W':my_mnist_net.W}, f )"
   ]
  },
  {
   "cell_type": "markdown",
   "metadata": {
    "collapsed": true,
    "deletable": true,
    "editable": true
   },
   "source": [
    "##### Observations:\n",
    "After iteration nº 10 there is almost no improvement in the accuracy on the validation test."
   ]
  },
  {
   "cell_type": "markdown",
   "metadata": {
    "deletable": true,
    "editable": true
   },
   "source": [
    "<b>Question 2.1.4</b>: Guess digit, Implement and test a python function that predict the class of a digit (the folder images_test contains some examples of images of digits)\n"
   ]
  },
  {
   "cell_type": "code",
   "execution_count": 24,
   "metadata": {
    "collapsed": false,
    "deletable": true,
    "editable": true
   },
   "outputs": [
    {
     "name": "stdout",
     "output_type": "stream",
     "text": [
      "7\n"
     ]
    }
   ],
   "source": [
    "#Your implementation goes here\n",
    "def guess(nnet_obj, digit_img):\n",
    "    digit_class = my_mnist_net.feedForward(digit_img)\n",
    "    return np.argmax(digit_class)\n",
    "    \n",
    "    \n",
    "digit_image = test_data[0][0]\n",
    "digit_val = guess(my_mnist_net, digit_img=digit_image)\n",
    "print(digit_val)"
   ]
  },
  {
   "cell_type": "markdown",
   "metadata": {
    "deletable": true,
    "editable": true
   },
   "source": [
    "<b>Part 2</b>: Change the neural network structure and parameters to optimize performance"
   ]
  },
  {
   "cell_type": "markdown",
   "metadata": {
    "collapsed": true,
    "deletable": true,
    "editable": true
   },
   "source": [
    "<b> Question 2.2.1</b>: Change the learning rate (0.001, 0.1, 1.0 , 10). Train the new neural nets with the original specifications (Part 2.1), for 50 iterations. \n",
    "Plot test accuracy vs iteration for each learning rate on the same graph. Report the maximum\n",
    "test accuracy achieved for each learning rate. Which one achieves the maximum test accuracy?"
   ]
  },
  {
   "cell_type": "code",
   "execution_count": 12,
   "metadata": {
    "collapsed": false,
    "deletable": true,
    "editable": true
   },
   "outputs": [
    {
     "name": "stdout",
     "output_type": "stream",
     "text": [
      "iter:  1/50 --> E: 0.5901832278  -Training_Accuracy:  20.02  -t: 7.60 \n",
      "iter:  2/50 --> E: 0.4242699650  -Training_Accuracy:  43.32  -t: 15.27 \n",
      "iter:  3/50 --> E: 0.3909193536  -Training_Accuracy:  56.63  -t: 22.89 \n",
      "iter:  4/50 --> E: 0.3490982054  -Training_Accuracy:  63.67  -t: 30.51 \n",
      "iter:  5/50 --> E: 0.3055677968  -Training_Accuracy:  67.45  -t: 38.16 \n",
      "iter:  6/50 --> E: 0.2697761506  -Training_Accuracy:  70.94  -t: 45.82 \n",
      "iter:  7/50 --> E: 0.2416823877  -Training_Accuracy:  75.02  -t: 53.55 \n",
      "iter:  8/50 --> E: 0.2189420796  -Training_Accuracy:  78.72  -t: 61.15 \n",
      "iter:  9/50 --> E: 0.1996692693  -Training_Accuracy:  81.32  -t: 68.91 \n",
      "iter: 10/50 --> E: 0.1829797266  -Training_Accuracy:  83.44  -t: 76.57 \n",
      "iter: 11/50 --> E: 0.1687187727  -Training_Accuracy:  84.80  -t: 84.20 \n",
      "iter: 12/50 --> E: 0.1567914099  -Training_Accuracy:  85.65  -t: 91.83 \n",
      "iter: 13/50 --> E: 0.1468707194  -Training_Accuracy:  86.47  -t: 99.43 \n",
      "iter: 14/50 --> E: 0.1385717441  -Training_Accuracy:  87.01  -t: 107.03 \n",
      "iter: 15/50 --> E: 0.1315748599  -Training_Accuracy:  87.56  -t: 114.63 \n",
      "iter: 16/50 --> E: 0.1256228347  -Training_Accuracy:  87.99  -t: 122.33 \n",
      "iter: 17/50 --> E: 0.1205184713  -Training_Accuracy:  88.28  -t: 129.98 \n",
      "iter: 18/50 --> E: 0.1160919320  -Training_Accuracy:  88.57  -t: 137.68 \n",
      "iter: 19/50 --> E: 0.1122495759  -Training_Accuracy:  88.84  -t: 145.37 \n",
      "iter: 20/50 --> E: 0.1088555565  -Training_Accuracy:  89.01  -t: 153.24 \n",
      "iter: 21/50 --> E: 0.1058425556  -Training_Accuracy:  89.19  -t: 160.86 \n",
      "iter: 22/50 --> E: 0.1031754104  -Training_Accuracy:  89.41  -t: 168.87 \n",
      "iter: 23/50 --> E: 0.1007517643  -Training_Accuracy:  89.57  -t: 176.53 \n",
      "iter: 24/50 --> E: 0.0985592174  -Training_Accuracy:  89.72  -t: 184.12 \n",
      "iter: 25/50 --> E: 0.0965529066  -Training_Accuracy:  89.92  -t: 191.85 \n",
      "iter: 26/50 --> E: 0.0947062363  -Training_Accuracy:  90.05  -t: 199.44 \n",
      "iter: 27/50 --> E: 0.0930226820  -Training_Accuracy:  90.15  -t: 207.07 \n",
      "iter: 28/50 --> E: 0.0914363469  -Training_Accuracy:  90.27  -t: 214.74 \n",
      "iter: 29/50 --> E: 0.0899780058  -Training_Accuracy:  90.39  -t: 222.38 \n",
      "iter: 30/50 --> E: 0.0886058153  -Training_Accuracy:  90.47  -t: 230.51 \n",
      "iter: 31/50 --> E: 0.0873349477  -Training_Accuracy:  90.58  -t: 238.26 \n",
      "iter: 32/50 --> E: 0.0861284086  -Training_Accuracy:  90.68  -t: 245.99 \n",
      "iter: 33/50 --> E: 0.0849958986  -Training_Accuracy:  90.77  -t: 253.68 \n",
      "iter: 34/50 --> E: 0.0839254796  -Training_Accuracy:  90.89  -t: 261.38 \n",
      "iter: 35/50 --> E: 0.0829071779  -Training_Accuracy:  90.95  -t: 269.04 \n",
      "iter: 36/50 --> E: 0.0819450509  -Training_Accuracy:  91.10  -t: 276.73 \n",
      "iter: 37/50 --> E: 0.0810291608  -Training_Accuracy:  91.19  -t: 284.43 \n",
      "iter: 38/50 --> E: 0.0801472394  -Training_Accuracy:  91.25  -t: 292.11 \n",
      "iter: 39/50 --> E: 0.0793260172  -Training_Accuracy:  91.32  -t: 299.79 \n",
      "iter: 40/50 --> E: 0.0785202849  -Training_Accuracy:  91.40  -t: 307.48 \n",
      "iter: 41/50 --> E: 0.0777597336  -Training_Accuracy:  91.46  -t: 315.24 \n",
      "iter: 42/50 --> E: 0.0770325511  -Training_Accuracy:  91.57  -t: 322.93 \n",
      "iter: 43/50 --> E: 0.0763372264  -Training_Accuracy:  91.61  -t: 330.63 \n",
      "iter: 44/50 --> E: 0.0756434118  -Training_Accuracy:  91.69  -t: 338.33 \n",
      "iter: 45/50 --> E: 0.0750033438  -Training_Accuracy:  91.74  -t: 345.95 \n",
      "iter: 46/50 --> E: 0.0743821148  -Training_Accuracy:  91.82  -t: 353.67 \n",
      "iter: 47/50 --> E: 0.0737678244  -Training_Accuracy:  91.86  -t: 361.39 \n",
      "iter: 48/50 --> E: 0.0731905196  -Training_Accuracy:  91.93  -t: 369.07 \n",
      "iter: 49/50 --> E: 0.0726258916  -Training_Accuracy:  92.02  -t: 376.81 \n",
      "iter: 50/50 --> E: 0.0720719934  -Training_Accuracy:  92.06  -t: 384.49 \n"
     ]
    },
    {
     "data": {
      "image/png": "[encoded data removed]",
      "text/plain": [
       "<matplotlib.figure.Figure at 0x18cc26276d8>"
      ]
     },
     "metadata": {},
     "output_type": "display_data"
    }
   ],
   "source": [
    "# Implementation with a learning rate of 0.001 \n",
    "my_mnist_net2 = nn.NNet(n_input=784,netDims=[30,10],n_iter=50,learn=0.001)\n",
    "Tr_acc2, Val_acc2 = my_mnist_net2.train(training_data,validation_data, True, True, True)\n",
    "my_mnist_net2.save(\"mnist_nD30-10_it50_l0001.model\")"
   ]
  },
  {
   "cell_type": "code",
   "execution_count": 14,
   "metadata": {
    "collapsed": false,
    "deletable": true,
    "editable": true
   },
   "outputs": [
    {
     "name": "stdout",
     "output_type": "stream",
     "text": [
      "iter:  1/50 --> E: 0.0852609791  -Training_Accuracy:  91.97  -t: 7.77 \n",
      "iter:  2/50 --> E: 0.0600043670  -Training_Accuracy:  92.95  -t: 15.40 \n",
      "iter:  3/50 --> E: 0.0539600047  -Training_Accuracy:  93.73  -t: 23.09 \n",
      "iter:  4/50 --> E: 0.0514535847  -Training_Accuracy:  94.77  -t: 30.76 \n",
      "iter:  5/50 --> E: 0.0480471908  -Training_Accuracy:  94.98  -t: 38.44 \n",
      "iter:  6/50 --> E: 0.0464538484  -Training_Accuracy:  94.88  -t: 46.09 \n",
      "iter:  7/50 --> E: 0.0449186552  -Training_Accuracy:  95.26  -t: 53.79 \n",
      "iter:  8/50 --> E: 0.0434278810  -Training_Accuracy:  94.79  -t: 61.46 \n",
      "iter:  9/50 --> E: 0.0427273168  -Training_Accuracy:  95.55  -t: 69.13 \n",
      "iter: 10/50 --> E: 0.0409270846  -Training_Accuracy:  95.65  -t: 76.80 \n",
      "iter: 11/50 --> E: 0.0404878364  -Training_Accuracy:  94.98  -t: 84.47 \n",
      "iter: 12/50 --> E: 0.0402868831  -Training_Accuracy:  95.49  -t: 92.18 \n",
      "iter: 13/50 --> E: 0.0396379967  -Training_Accuracy:  95.69  -t: 99.92 \n",
      "iter: 14/50 --> E: 0.0377439622  -Training_Accuracy:  96.12  -t: 107.60 \n",
      "iter: 15/50 --> E: 0.0381411895  -Training_Accuracy:  95.73  -t: 115.27 \n",
      "iter: 16/50 --> E: 0.0378015459  -Training_Accuracy:  95.58  -t: 122.93 \n",
      "iter: 17/50 --> E: 0.0378224586  -Training_Accuracy:  95.74  -t: 130.60 \n",
      "iter: 18/50 --> E: 0.0365357879  -Training_Accuracy:  95.83  -t: 139.24 \n",
      "iter: 19/50 --> E: 0.0354660606  -Training_Accuracy:  96.06  -t: 147.37 \n",
      "iter: 20/50 --> E: 0.0355118799  -Training_Accuracy:  96.34  -t: 155.37 \n",
      "iter: 21/50 --> E: 0.0350151667  -Training_Accuracy:  96.17  -t: 163.40 \n",
      "iter: 22/50 --> E: 0.0352799168  -Training_Accuracy:  96.18  -t: 171.48 \n",
      "iter: 23/50 --> E: 0.0339365220  -Training_Accuracy:  96.32  -t: 179.39 \n",
      "iter: 24/50 --> E: 0.0343796943  -Training_Accuracy:  96.37  -t: 187.50 \n",
      "iter: 25/50 --> E: 0.0335423616  -Training_Accuracy:  96.70  -t: 195.55 \n",
      "iter: 26/50 --> E: 0.0334596344  -Training_Accuracy:  96.21  -t: 203.49 \n",
      "iter: 27/50 --> E: 0.0337714227  -Training_Accuracy:  96.48  -t: 211.54 \n",
      "iter: 28/50 --> E: 0.0327208194  -Training_Accuracy:  96.19  -t: 221.13 \n",
      "iter: 29/50 --> E: 0.0326903926  -Training_Accuracy:  96.64  -t: 230.26 \n",
      "iter: 30/50 --> E: 0.0315738838  -Training_Accuracy:  96.18  -t: 239.92 \n",
      "iter: 31/50 --> E: 0.0321212041  -Training_Accuracy:  96.49  -t: 248.08 \n",
      "iter: 32/50 --> E: 0.0309788679  -Training_Accuracy:  96.88  -t: 255.86 \n",
      "iter: 33/50 --> E: 0.0311239231  -Training_Accuracy:  96.70  -t: 263.68 \n",
      "iter: 34/50 --> E: 0.0313862928  -Training_Accuracy:  96.82  -t: 272.55 \n",
      "iter: 35/50 --> E: 0.0300936629  -Training_Accuracy:  96.46  -t: 281.28 \n",
      "iter: 36/50 --> E: 0.0313446482  -Training_Accuracy:  96.35  -t: 289.31 \n",
      "iter: 37/50 --> E: 0.0310523109  -Training_Accuracy:  96.90  -t: 297.25 \n",
      "iter: 38/50 --> E: 0.0302647131  -Training_Accuracy:  96.56  -t: 305.05 \n",
      "iter: 39/50 --> E: 0.0313163045  -Training_Accuracy:  96.90  -t: 312.79 \n",
      "iter: 40/50 --> E: 0.0298567192  -Training_Accuracy:  96.73  -t: 320.60 \n",
      "iter: 41/50 --> E: 0.0295232554  -Training_Accuracy:  96.71  -t: 328.33 \n",
      "iter: 42/50 --> E: 0.0297895117  -Training_Accuracy:  96.97  -t: 336.04 \n",
      "iter: 43/50 --> E: 0.0288997653  -Training_Accuracy:  97.05  -t: 343.82 \n",
      "iter: 44/50 --> E: 0.0290725891  -Training_Accuracy:  96.96  -t: 351.53 \n",
      "iter: 45/50 --> E: 0.0291683488  -Training_Accuracy:  97.05  -t: 359.28 \n",
      "iter: 46/50 --> E: 0.0288688883  -Training_Accuracy:  96.69  -t: 367.08 \n",
      "iter: 47/50 --> E: 0.0287818587  -Training_Accuracy:  96.58  -t: 374.80 \n",
      "iter: 48/50 --> E: 0.0298170729  -Training_Accuracy:  96.74  -t: 382.48 \n",
      "iter: 49/50 --> E: 0.0281298329  -Training_Accuracy:  97.17  -t: 390.18 \n",
      "iter: 50/50 --> E: 0.0275836530  -Training_Accuracy:  97.28  -t: 398.02 \n"
     ]
    },
    {
     "data": {
      "image/png": "[encoded data removed]",
      "text/plain": [
       "<matplotlib.figure.Figure at 0x18cd176eeb8>"
      ]
     },
     "metadata": {},
     "output_type": "display_data"
    }
   ],
   "source": [
    "# Implementation with a learning rate of 1.0 \n",
    "my_mnist_net4 = nn.NNet(n_input=784,netDims=[30,10],n_iter=50,learn=1)\n",
    "Tr_acc4, Val_acc4 = my_mnist_net4.train(training_data,validation_data, True, True, True)\n",
    "my_mnist_net4.save(\"mnist_nD30-10_it50_l1.model\")"
   ]
  },
  {
   "cell_type": "code",
   "execution_count": 15,
   "metadata": {
    "collapsed": false,
    "deletable": true,
    "editable": true
   },
   "outputs": [
    {
     "name": "stdout",
     "output_type": "stream",
     "text": [
      "iter:  1/50 --> E: 0.5007883590  -Training_Accuracy:  14.42  -t: 8.07 \n",
      "iter:  2/50 --> E: 0.5004562144  -Training_Accuracy:  11.91  -t: 16.14 \n",
      "iter:  3/50 --> E: 0.5059197436  -Training_Accuracy:  12.99  -t: 23.79 \n",
      "iter:  4/50 --> E: 0.5001086900  -Training_Accuracy:  10.81  -t: 31.46 \n",
      "iter:  5/50 --> E: 0.4999685550  -Training_Accuracy:  11.64  -t: 39.21 \n",
      "iter:  6/50 --> E: 0.5000014681  -Training_Accuracy:  15.36  -t: 46.88 \n",
      "iter:  7/50 --> E: 0.4999999761  -Training_Accuracy:  15.36  -t: 54.54 \n",
      "iter:  8/50 --> E: 0.4999999746  -Training_Accuracy:  15.37  -t: 62.19 \n",
      "iter:  9/50 --> E: 0.4999999729  -Training_Accuracy:  15.37  -t: 69.99 \n",
      "iter: 10/50 --> E: 0.4999999710  -Training_Accuracy:  15.37  -t: 77.88 \n",
      "iter: 11/50 --> E: 0.4999999689  -Training_Accuracy:  15.37  -t: 85.89 \n",
      "iter: 12/50 --> E: 0.4999999664  -Training_Accuracy:  15.39  -t: 93.78 \n",
      "iter: 13/50 --> E: 0.4999999634  -Training_Accuracy:  15.39  -t: 101.75 \n",
      "iter: 14/50 --> E: 0.4999999597  -Training_Accuracy:  15.38  -t: 109.51 \n",
      "iter: 15/50 --> E: 0.4999999550  -Training_Accuracy:  13.78  -t: 117.26 \n",
      "iter: 16/50 --> E: 0.4999999488  -Training_Accuracy:  13.71  -t: 125.02 \n",
      "iter: 17/50 --> E: 0.4999999399  -Training_Accuracy:  13.70  -t: 132.79 \n",
      "iter: 18/50 --> E: 0.4999999261  -Training_Accuracy:  13.74  -t: 140.59 \n",
      "iter: 19/50 --> E: 0.4999999006  -Training_Accuracy:  13.79  -t: 148.35 \n",
      "iter: 20/50 --> E: 0.4999998353  -Training_Accuracy:  10.35  -t: 156.18 \n",
      "iter: 21/50 --> E: 0.4999976375  -Training_Accuracy:  10.35  -t: 164.02 \n",
      "iter: 22/50 --> E: 0.5000028853  -Training_Accuracy:  13.43  -t: 171.74 \n",
      "iter: 23/50 --> E: 0.5000022064  -Training_Accuracy:  15.46  -t: 179.53 \n",
      "iter: 24/50 --> E: 0.4999998958  -Training_Accuracy:  15.42  -t: 187.30 \n",
      "iter: 25/50 --> E: 0.4999998264  -Training_Accuracy:  13.63  -t: 195.02 \n",
      "iter: 26/50 --> E: 0.5001322699  -Training_Accuracy:  15.90  -t: 202.80 \n",
      "iter: 27/50 --> E: 0.4999998789  -Training_Accuracy:  15.91  -t: 211.16 \n",
      "iter: 28/50 --> E: 0.4999998145  -Training_Accuracy:  15.42  -t: 218.92 \n",
      "iter: 29/50 --> E: 0.5000543871  -Training_Accuracy:  12.66  -t: 226.69 \n",
      "iter: 30/50 --> E: 0.5000009587  -Training_Accuracy:  12.15  -t: 234.48 \n",
      "iter: 31/50 --> E: 0.4999998648  -Training_Accuracy:  9.03  -t: 242.24 \n",
      "iter: 32/50 --> E: 0.4999994684  -Training_Accuracy:  9.01  -t: 249.99 \n",
      "iter: 33/50 --> E: 0.4999994236  -Training_Accuracy:  9.01  -t: 257.77 \n",
      "iter: 34/50 --> E: 0.6080801292  -Training_Accuracy:  9.01  -t: 266.49 \n",
      "iter: 35/50 --> E: 0.4999990474  -Training_Accuracy:  15.92  -t: 274.75 \n",
      "iter: 36/50 --> E: 0.4999999541  -Training_Accuracy:  15.88  -t: 283.53 \n",
      "iter: 37/50 --> E: 0.4999999474  -Training_Accuracy:  15.83  -t: 291.89 \n",
      "iter: 38/50 --> E: 0.4999999374  -Training_Accuracy:  15.79  -t: 300.27 \n",
      "iter: 39/50 --> E: 0.4999999204  -Training_Accuracy:  15.72  -t: 308.49 \n",
      "iter: 40/50 --> E: 0.4999998846  -Training_Accuracy:  15.59  -t: 316.52 \n",
      "iter: 41/50 --> E: 0.4999997401  -Training_Accuracy:  10.62  -t: 324.31 \n",
      "iter: 42/50 --> E: 0.5135553962  -Training_Accuracy:  19.35  -t: 332.04 \n",
      "iter: 43/50 --> E: 0.4999998711  -Training_Accuracy:  19.34  -t: 339.77 \n",
      "iter: 44/50 --> E: 0.4999996941  -Training_Accuracy:  19.30  -t: 347.58 \n",
      "iter: 45/50 --> E: 0.5000274529  -Training_Accuracy:  15.08  -t: 355.34 \n",
      "iter: 46/50 --> E: 0.4999995191  -Training_Accuracy:  12.29  -t: 363.06 \n",
      "iter: 47/50 --> E: 0.4993385745  -Training_Accuracy:  20.77  -t: 370.76 \n"
     ]
    },
    {
     "name": "stderr",
     "output_type": "stream",
     "text": [
      "C:\\Users\\AlbertoIbarrondo\\Documents\\DeepLearning\\Older\\transfer_functions.py:2: RuntimeWarning: overflow encountered in exp\n",
      "  def sigmoid(x):  return 1 / (1 + np.exp(-x))\n"
     ]
    },
    {
     "name": "stdout",
     "output_type": "stream",
     "text": [
      "iter: 48/50 --> E: 0.4687427211  -Training_Accuracy:  16.55  -t: 378.68 \n",
      "iter: 49/50 --> E: 0.4630426374  -Training_Accuracy:  19.96  -t: 386.68 \n",
      "iter: 50/50 --> E: 0.4514445451  -Training_Accuracy:  20.53  -t: 394.80 \n"
     ]
    },
    {
     "data": {
      "image/png": "[encoded data removed]",
      "text/plain": [
       "<matplotlib.figure.Figure at 0x18cd16fc7f0>"
      ]
     },
     "metadata": {},
     "output_type": "display_data"
    }
   ],
   "source": [
    "# Implementation with a learning rate of 10\n",
    "my_mnist_net5 = nn.NNet(n_input=784,netDims=[30,10],n_iter=50,learn=10)\n",
    "Tr_acc5, Val_acc5 = my_mnist_net5.train(training_data,validation_data, True, True, True)\n",
    "my_mnist_net5.save(\"mnist_nD30-10_it50_l10.model\")"
   ]
  },
  {
   "cell_type": "markdown",
   "metadata": {
    "deletable": true,
    "editable": true
   },
   "source": [
    "##### Answer: \n",
    "Clearly the best learning rate is 0.1.\n",
    "With 0.001 the learning curve steadily increases, but it's slower when compared to 0.1.\n",
    "The 1 learning rate starts fluctuating, achieving a lower final accuracy.\n",
    "Clearly, the learning rate of 10 is completely out of boundaries, not achieving almost any improvement at all"
   ]
  },
  {
   "cell_type": "markdown",
   "metadata": {
    "deletable": true,
    "editable": true
   },
   "source": [
    " <b> Question 2.2.2 : </b> initialize all weights to 0.  Plot the training accuracy curve.\n",
    "Comment your results\n",
    "    \n",
    "        "
   ]
  },
  {
   "cell_type": "code",
   "execution_count": 41,
   "metadata": {
    "collapsed": false,
    "deletable": true,
    "editable": true
   },
   "outputs": [
    {
     "name": "stdout",
     "output_type": "stream",
     "text": [
      "iter:  1/50 --> E: 0.4360764848  -Training_Accuracy:  26.88  -t: 7.68 \n",
      "iter:  2/50 --> E: 0.3743227806  -Training_Accuracy:  32.90  -t: 15.39 \n",
      "iter:  3/50 --> E: 0.3705950207  -Training_Accuracy:  32.34  -t: 23.08 \n",
      "iter:  4/50 --> E: 0.3696140427  -Training_Accuracy:  32.95  -t: 30.77 \n",
      "iter:  5/50 --> E: 0.3692155649  -Training_Accuracy:  34.30  -t: 38.54 \n",
      "iter:  6/50 --> E: 0.3688588240  -Training_Accuracy:  30.15  -t: 46.23 \n",
      "iter:  7/50 --> E: 0.3686415166  -Training_Accuracy:  35.33  -t: 53.94 \n",
      "iter:  8/50 --> E: 0.3683879569  -Training_Accuracy:  34.78  -t: 61.62 \n",
      "iter:  9/50 --> E: 0.3682828585  -Training_Accuracy:  31.22  -t: 69.27 \n",
      "iter: 10/50 --> E: 0.3681700236  -Training_Accuracy:  34.64  -t: 76.98 \n",
      "iter: 11/50 --> E: 0.3680377068  -Training_Accuracy:  32.76  -t: 84.68 \n",
      "iter: 12/50 --> E: 0.3679020981  -Training_Accuracy:  32.76  -t: 92.34 \n",
      "iter: 13/50 --> E: 0.3679037084  -Training_Accuracy:  34.85  -t: 100.02 \n",
      "iter: 14/50 --> E: 0.3677729088  -Training_Accuracy:  32.51  -t: 107.73 \n",
      "iter: 15/50 --> E: 0.3676689252  -Training_Accuracy:  34.17  -t: 115.44 \n",
      "iter: 16/50 --> E: 0.3675834522  -Training_Accuracy:  31.50  -t: 123.16 \n",
      "iter: 17/50 --> E: 0.3676100497  -Training_Accuracy:  33.38  -t: 131.09 \n",
      "iter: 18/50 --> E: 0.3674829612  -Training_Accuracy:  33.91  -t: 138.74 \n",
      "iter: 19/50 --> E: 0.3675027613  -Training_Accuracy:  35.10  -t: 146.43 \n",
      "iter: 20/50 --> E: 0.3673547770  -Training_Accuracy:  35.21  -t: 154.15 \n",
      "iter: 21/50 --> E: 0.3673646160  -Training_Accuracy:  34.35  -t: 161.85 \n",
      "iter: 22/50 --> E: 0.3673376218  -Training_Accuracy:  30.94  -t: 169.95 \n",
      "iter: 23/50 --> E: 0.3672907042  -Training_Accuracy:  37.19  -t: 177.94 \n",
      "iter: 24/50 --> E: 0.3672299234  -Training_Accuracy:  32.84  -t: 185.93 \n",
      "iter: 25/50 --> E: 0.3671584041  -Training_Accuracy:  34.89  -t: 194.08 \n",
      "iter: 26/50 --> E: 0.3671386629  -Training_Accuracy:  32.52  -t: 201.92 \n",
      "iter: 27/50 --> E: 0.3671663933  -Training_Accuracy:  33.85  -t: 209.56 \n",
      "iter: 28/50 --> E: 0.3670787732  -Training_Accuracy:  36.01  -t: 217.26 \n",
      "iter: 29/50 --> E: 0.3669763436  -Training_Accuracy:  34.31  -t: 224.94 \n",
      "iter: 30/50 --> E: 0.3670211321  -Training_Accuracy:  35.77  -t: 232.63 \n",
      "iter: 31/50 --> E: 0.3669802998  -Training_Accuracy:  35.15  -t: 240.30 \n",
      "iter: 32/50 --> E: 0.3669908084  -Training_Accuracy:  34.70  -t: 248.02 \n",
      "iter: 33/50 --> E: 0.3669381180  -Training_Accuracy:  35.49  -t: 255.69 \n",
      "iter: 34/50 --> E: 0.3669169742  -Training_Accuracy:  34.35  -t: 263.40 \n",
      "iter: 35/50 --> E: 0.3668547869  -Training_Accuracy:  34.70  -t: 271.10 \n",
      "iter: 36/50 --> E: 0.3668377015  -Training_Accuracy:  36.51  -t: 278.79 \n",
      "iter: 37/50 --> E: 0.3667899091  -Training_Accuracy:  34.78  -t: 286.54 \n",
      "iter: 38/50 --> E: 0.3668509092  -Training_Accuracy:  34.28  -t: 294.25 \n",
      "iter: 39/50 --> E: 0.3667957630  -Training_Accuracy:  36.15  -t: 301.92 \n",
      "iter: 40/50 --> E: 0.3667752691  -Training_Accuracy:  32.75  -t: 309.61 \n",
      "iter: 41/50 --> E: 0.3667078516  -Training_Accuracy:  34.71  -t: 317.34 \n",
      "iter: 42/50 --> E: 0.3666782115  -Training_Accuracy:  35.70  -t: 325.04 \n",
      "iter: 43/50 --> E: 0.3666134137  -Training_Accuracy:  33.23  -t: 332.73 \n",
      "iter: 44/50 --> E: 0.3667433318  -Training_Accuracy:  34.49  -t: 340.72 \n",
      "iter: 45/50 --> E: 0.3665809163  -Training_Accuracy:  35.24  -t: 348.67 \n",
      "iter: 46/50 --> E: 0.3665035353  -Training_Accuracy:  35.44  -t: 356.46 \n",
      "iter: 47/50 --> E: 0.3665417771  -Training_Accuracy:  36.28  -t: 364.28 \n",
      "iter: 48/50 --> E: 0.3665026379  -Training_Accuracy:  35.70  -t: 372.06 \n",
      "iter: 49/50 --> E: 0.3665086004  -Training_Accuracy:  34.90  -t: 379.89 \n",
      "iter: 50/50 --> E: 0.3665096320  -Training_Accuracy:  36.76  -t: 387.94 \n"
     ]
    },
    {
     "data": {
      "image/png": "[encoded data removed]",
      "text/plain": [
       "<matplotlib.figure.Figure at 0x18cd17ef780>"
      ]
     },
     "metadata": {},
     "output_type": "display_data"
    }
   ],
   "source": [
    "#Your implementation goes here\n",
    "my_mnist_net_all0 = nn.NNet(n_input=784,netDims=[30,10],n_iter=50,learn=0.1)\n",
    "W0_zeros = np.zeros([785,30])\n",
    "W1_zeros = np.zeros([31,10])\n",
    "my_mnist_net_all0.init_w([W0_zeros, W1_zeros])\n",
    "Tr_acc0, Val_acc0 = my_mnist_net_all0.train(training_data,validation_data, True, True, True)\n",
    "my_mnist_net_all0.save(\"mnistZeros_nD30-10_it50_l01.model\")"
   ]
  },
  {
   "cell_type": "markdown",
   "metadata": {
    "deletable": true,
    "editable": true
   },
   "source": [
    "##### Answer:\n",
    "Since al weights are symmetric, even when using the best learning rate (0.1), there is almost no improvement since there is no learning."
   ]
  },
  {
   "cell_type": "markdown",
   "metadata": {
    "deletable": true,
    "editable": true
   },
   "source": [
    "<b> Question 2.2.3 : </b> Try with a different transfer function (such as tanh).\n",
    " File transfer_functions.py provides you the python implementation of the tanh function and its derivative"
   ]
  },
  {
   "cell_type": "code",
   "execution_count": 44,
   "metadata": {
    "collapsed": false,
    "deletable": true,
    "editable": true
   },
   "outputs": [
    {
     "name": "stdout",
     "output_type": "stream",
     "text": [
      "iter:  1/50 --> E: 0.6225683572  -Training_Accuracy:  88.31  -t: 6.89 \n",
      "iter:  2/50 --> E: 0.3051302493  -Training_Accuracy:  88.92  -t: 13.77 \n",
      "iter:  3/50 --> E: 0.2280313864  -Training_Accuracy:  89.20  -t: 20.62 \n",
      "iter:  4/50 --> E: 0.2054301901  -Training_Accuracy:  89.39  -t: 27.45 \n",
      "iter:  5/50 --> E: 0.1927645282  -Training_Accuracy:  90.58  -t: 34.32 \n",
      "iter:  6/50 --> E: 0.1845254593  -Training_Accuracy:  90.31  -t: 41.16 \n",
      "iter:  7/50 --> E: 0.1815499718  -Training_Accuracy:  91.07  -t: 47.96 \n",
      "iter:  8/50 --> E: 0.1775221938  -Training_Accuracy:  90.31  -t: 55.71 \n",
      "iter:  9/50 --> E: 0.1749991492  -Training_Accuracy:  80.83  -t: 62.80 \n",
      "iter: 10/50 --> E: 0.1712900965  -Training_Accuracy:  91.25  -t: 70.29 \n",
      "iter: 11/50 --> E: 0.1706200131  -Training_Accuracy:  89.36  -t: 77.99 \n",
      "iter: 12/50 --> E: 0.1671690364  -Training_Accuracy:  91.38  -t: 85.24 \n",
      "iter: 13/50 --> E: 0.1652308646  -Training_Accuracy:  91.31  -t: 92.69 \n",
      "iter: 14/50 --> E: 0.1636990281  -Training_Accuracy:  90.99  -t: 99.93 \n",
      "iter: 15/50 --> E: 0.1625047610  -Training_Accuracy:  89.75  -t: 106.87 \n",
      "iter: 16/50 --> E: 0.1605260150  -Training_Accuracy:  91.23  -t: 113.74 \n",
      "iter: 17/50 --> E: 0.1603232492  -Training_Accuracy:  90.71  -t: 120.63 \n",
      "iter: 18/50 --> E: 0.1606361291  -Training_Accuracy:  91.40  -t: 127.43 \n",
      "iter: 19/50 --> E: 0.1575932419  -Training_Accuracy:  91.29  -t: 134.27 \n",
      "iter: 20/50 --> E: 0.1571811347  -Training_Accuracy:  91.64  -t: 141.16 \n",
      "iter: 21/50 --> E: 0.1563475600  -Training_Accuracy:  90.92  -t: 148.01 \n",
      "iter: 22/50 --> E: 0.1542853173  -Training_Accuracy:  91.77  -t: 154.84 \n",
      "iter: 23/50 --> E: 0.1544317339  -Training_Accuracy:  88.31  -t: 161.71 \n",
      "iter: 24/50 --> E: 0.1547082569  -Training_Accuracy:  91.01  -t: 168.55 \n",
      "iter: 25/50 --> E: 0.1532264066  -Training_Accuracy:  92.04  -t: 175.78 \n",
      "iter: 26/50 --> E: 0.1509716988  -Training_Accuracy:  91.17  -t: 182.85 \n",
      "iter: 27/50 --> E: 0.1511542163  -Training_Accuracy:  91.28  -t: 189.73 \n",
      "iter: 28/50 --> E: 0.1520149326  -Training_Accuracy:  91.20  -t: 196.59 \n",
      "iter: 29/50 --> E: 0.1504533153  -Training_Accuracy:  82.70  -t: 203.46 \n",
      "iter: 30/50 --> E: 0.1492944332  -Training_Accuracy:  91.82  -t: 210.37 \n",
      "iter: 31/50 --> E: 0.1500948678  -Training_Accuracy:  91.92  -t: 217.22 \n",
      "iter: 32/50 --> E: 0.1485013483  -Training_Accuracy:  91.36  -t: 224.07 \n",
      "iter: 33/50 --> E: 0.1467029002  -Training_Accuracy:  91.61  -t: 231.03 \n",
      "iter: 34/50 --> E: 0.1504316740  -Training_Accuracy:  91.46  -t: 238.59 \n",
      "iter: 35/50 --> E: 0.1493012107  -Training_Accuracy:  91.71  -t: 245.41 \n",
      "iter: 36/50 --> E: 0.1473334960  -Training_Accuracy:  91.93  -t: 252.22 \n",
      "iter: 37/50 --> E: 0.1452507232  -Training_Accuracy:  91.25  -t: 259.03 \n",
      "iter: 38/50 --> E: 0.1458577106  -Training_Accuracy:  92.04  -t: 266.10 \n",
      "iter: 39/50 --> E: 0.1454275759  -Training_Accuracy:  91.54  -t: 273.63 \n",
      "iter: 40/50 --> E: 0.1453059988  -Training_Accuracy:  92.02  -t: 280.72 \n",
      "iter: 41/50 --> E: 0.1455040135  -Training_Accuracy:  91.98  -t: 287.98 \n",
      "iter: 42/50 --> E: 0.1451639745  -Training_Accuracy:  91.82  -t: 295.02 \n",
      "iter: 43/50 --> E: 0.1431901137  -Training_Accuracy:  92.50  -t: 302.20 \n",
      "iter: 44/50 --> E: 0.1432726593  -Training_Accuracy:  91.99  -t: 309.17 \n",
      "iter: 45/50 --> E: 0.1432574275  -Training_Accuracy:  92.05  -t: 316.04 \n",
      "iter: 46/50 --> E: 0.1425957652  -Training_Accuracy:  81.80  -t: 322.91 \n",
      "iter: 47/50 --> E: 0.1426474014  -Training_Accuracy:  91.95  -t: 329.85 \n",
      "iter: 48/50 --> E: 0.1432345238  -Training_Accuracy:  92.33  -t: 336.75 \n",
      "iter: 49/50 --> E: 0.1432551085  -Training_Accuracy:  91.69  -t: 343.62 \n",
      "iter: 50/50 --> E: 0.1417738470  -Training_Accuracy:  91.73  -t: 350.52 \n"
     ]
    },
    {
     "data": {
      "image/png": "[encoded data removed]",
      "text/plain": [
       "<matplotlib.figure.Figure at 0x18cd16ca7f0>"
      ]
     },
     "metadata": {},
     "output_type": "display_data"
    }
   ],
   "source": [
    "#Your implementation goes here\n",
    "my_mnist_net_tanh = nn.NNet(n_input=784,netDims=[30,10],n_iter=50,learn=0.1, tf=tf.tanh, dtf=tf.dtanh)\n",
    "Tr_accTanh, Val_accTanh = my_mnist_net_tanh.train(training_data,validation_data, True, True, True)\n",
    "my_mnist_net_tanh.save(\"mnistTanh_nD30-10_it50_l01.model\")"
   ]
  },
  {
   "cell_type": "markdown",
   "metadata": {
    "deletable": true,
    "editable": true
   },
   "source": [
    "##### Comments:\n",
    "It seems that not only does it achieve a lower final accuracy (~90%), but it oscillates periodically. Clearly we can state that sigmoid function is beter on this case"
   ]
  },
  {
   "cell_type": "markdown",
   "metadata": {
    "deletable": true,
    "editable": true
   },
   "source": [
    "\n",
    "<b> Question 2.2.4 : </b>  Add more neurons in the hidden layer (try with 100, 200, 300). Plot the curve representing the validation accuracy versus the number of neurons in the hidden layer.  (Choose and justify other hyper-parameters)"
   ]
  },
  {
   "cell_type": "code",
   "execution_count": 48,
   "metadata": {
    "collapsed": false,
    "deletable": true,
    "editable": true
   },
   "outputs": [
    {
     "name": "stdout",
     "output_type": "stream",
     "text": [
      "iter:  1/50 --> E: 0.1356626461  -Training_Accuracy:  93.59  -t: 15.16 \n",
      "iter:  2/50 --> E: 0.0484822061  -Training_Accuracy:  95.42  -t: 49.44 \n",
      "iter:  3/50 --> E: 0.0380360106  -Training_Accuracy:  96.27  -t: 82.90 \n",
      "iter:  4/50 --> E: 0.0317807553  -Training_Accuracy:  97.11  -t: 98.31 \n",
      "iter:  5/50 --> E: 0.0274507525  -Training_Accuracy:  97.48  -t: 131.49 \n",
      "iter:  6/50 --> E: 0.0242109303  -Training_Accuracy:  97.78  -t: 164.63 \n",
      "iter:  7/50 --> E: 0.0217185195  -Training_Accuracy:  98.03  -t: 180.15 \n",
      "iter:  8/50 --> E: 0.0198697607  -Training_Accuracy:  98.31  -t: 213.60 \n",
      "iter:  9/50 --> E: 0.0180803667  -Training_Accuracy:  98.46  -t: 247.92 \n",
      "iter: 10/50 --> E: 0.0164445208  -Training_Accuracy:  98.58  -t: 263.82 \n",
      "iter: 11/50 --> E: 0.0151528661  -Training_Accuracy:  98.76  -t: 298.68 \n",
      "iter: 12/50 --> E: 0.0140373348  -Training_Accuracy:  98.80  -t: 331.85 \n",
      "iter: 13/50 --> E: 0.0130896514  -Training_Accuracy:  98.85  -t: 347.06 \n",
      "iter: 14/50 --> E: 0.0121390962  -Training_Accuracy:  98.97  -t: 380.17 \n",
      "iter: 15/50 --> E: 0.0113275755  -Training_Accuracy:  98.99  -t: 413.57 \n",
      "iter: 16/50 --> E: 0.0105885323  -Training_Accuracy:  99.02  -t: 429.75 \n",
      "iter: 17/50 --> E: 0.0099830245  -Training_Accuracy:  99.09  -t: 463.11 \n",
      "iter: 18/50 --> E: 0.0093821541  -Training_Accuracy:  99.15  -t: 496.11 \n",
      "iter: 19/50 --> E: 0.0088133219  -Training_Accuracy:  99.22  -t: 511.31 \n",
      "iter: 20/50 --> E: 0.0083617139  -Training_Accuracy:  99.24  -t: 544.38 \n",
      "iter: 21/50 --> E: 0.0078433154  -Training_Accuracy:  99.29  -t: 577.95 \n",
      "iter: 22/50 --> E: 0.0074253065  -Training_Accuracy:  99.31  -t: 594.21 \n",
      "iter: 23/50 --> E: 0.0071700062  -Training_Accuracy:  99.34  -t: 628.24 \n",
      "iter: 24/50 --> E: 0.0067138414  -Training_Accuracy:  99.36  -t: 662.16 \n",
      "iter: 25/50 --> E: 0.0063952246  -Training_Accuracy:  99.38  -t: 678.17 \n",
      "iter: 26/50 --> E: 0.0060838044  -Training_Accuracy:  99.39  -t: 711.09 \n",
      "iter: 27/50 --> E: 0.0058702943  -Training_Accuracy:  99.42  -t: 744.04 \n",
      "iter: 28/50 --> E: 0.0056254997  -Training_Accuracy:  99.42  -t: 759.07 \n",
      "iter: 29/50 --> E: 0.0054038542  -Training_Accuracy:  99.44  -t: 793.26 \n",
      "iter: 30/50 --> E: 0.0052317810  -Training_Accuracy:  99.44  -t: 826.38 \n",
      "iter: 31/50 --> E: 0.0050177363  -Training_Accuracy:  99.46  -t: 841.45 \n",
      "iter: 32/50 --> E: 0.0048476641  -Training_Accuracy:  99.47  -t: 874.46 \n",
      "iter: 33/50 --> E: 0.0046942368  -Training_Accuracy:  99.48  -t: 907.48 \n",
      "iter: 34/50 --> E: 0.0045215378  -Training_Accuracy:  99.49  -t: 922.85 \n",
      "iter: 35/50 --> E: 0.0043869249  -Training_Accuracy:  99.49  -t: 955.78 \n",
      "iter: 36/50 --> E: 0.0042089569  -Training_Accuracy:  99.51  -t: 989.14 \n",
      "iter: 37/50 --> E: 0.0040815752  -Training_Accuracy:  99.52  -t: 1004.28 \n",
      "iter: 38/50 --> E: 0.0039691063  -Training_Accuracy:  99.53  -t: 1037.41 \n",
      "iter: 39/50 --> E: 0.0038685401  -Training_Accuracy:  99.54  -t: 1070.34 \n",
      "iter: 40/50 --> E: 0.0037542679  -Training_Accuracy:  99.55  -t: 1085.61 \n",
      "iter: 41/50 --> E: 0.0036669499  -Training_Accuracy:  99.55  -t: 1118.63 \n",
      "iter: 42/50 --> E: 0.0035676876  -Training_Accuracy:  99.56  -t: 1151.79 \n",
      "iter: 43/50 --> E: 0.0034840193  -Training_Accuracy:  99.56  -t: 1167.14 \n",
      "iter: 44/50 --> E: 0.0034163976  -Training_Accuracy:  99.57  -t: 1200.23 \n",
      "iter: 45/50 --> E: 0.0033356839  -Training_Accuracy:  99.57  -t: 1233.17 \n",
      "iter: 46/50 --> E: 0.0032543228  -Training_Accuracy:  99.58  -t: 1248.41 \n",
      "iter: 47/50 --> E: 0.0032062836  -Training_Accuracy:  99.58  -t: 1281.54 \n",
      "iter: 48/50 --> E: 0.0031394381  -Training_Accuracy:  99.58  -t: 1314.73 \n",
      "iter: 49/50 --> E: 0.0030653855  -Training_Accuracy:  99.59  -t: 1330.01 \n",
      "iter: 50/50 --> E: 0.0030129903  -Training_Accuracy:  99.60  -t: 1363.00 \n"
     ]
    },
    {
     "data": {
      "image/png": "[encoded data removed]",
      "text/plain": [
       "<matplotlib.figure.Figure at 0x18cd181ddd8>"
      ]
     },
     "metadata": {},
     "output_type": "display_data"
    }
   ],
   "source": [
    "# 100 hidden neurons\n",
    "my_mnist_net_100 = nn.NNet(n_input=784,netDims=[100,10],n_iter=50,learn=0.1)\n",
    "Tr_acc100, Val_acc100 = my_mnist_net_100.train(training_data,validation_data, True, True, True)\n",
    "my_mnist_net_100.save(\"mnist_nD100-10_it50_l01.model\")"
   ]
  },
  {
   "cell_type": "code",
   "execution_count": 49,
   "metadata": {
    "collapsed": false
   },
   "outputs": [
    {
     "name": "stdout",
     "output_type": "stream",
     "text": [
      "iter:  1/50 --> E: 4.4999981976  -Training_Accuracy:  8.80  -t: 58.37 \n",
      "iter:  2/50 --> E: 4.4999978781  -Training_Accuracy:  8.85  -t: 116.74 \n",
      "iter:  3/50 --> E: 4.4999974122  -Training_Accuracy:  8.87  -t: 175.08 \n",
      "iter:  4/50 --> E: 4.4999966618  -Training_Accuracy:  8.90  -t: 233.39 \n",
      "iter:  5/50 --> E: 4.4999952161  -Training_Accuracy:  8.94  -t: 291.93 \n",
      "iter:  6/50 --> E: 4.4999907066  -Training_Accuracy:  9.00  -t: 350.62 \n",
      "iter:  7/50 --> E: 2.8948882604  -Training_Accuracy:  90.94  -t: 408.94 \n",
      "iter:  8/50 --> E: 0.0626223890  -Training_Accuracy:  94.62  -t: 467.49 \n",
      "iter:  9/50 --> E: 0.0424125124  -Training_Accuracy:  96.07  -t: 526.03 \n",
      "iter: 10/50 --> E: 0.0331626392  -Training_Accuracy:  96.77  -t: 584.54 \n",
      "iter: 11/50 --> E: 0.0274266540  -Training_Accuracy:  97.60  -t: 643.01 \n",
      "iter: 12/50 --> E: 0.0233442951  -Training_Accuracy:  97.85  -t: 701.51 \n",
      "iter: 13/50 --> E: 0.0203102265  -Training_Accuracy:  98.25  -t: 760.09 \n",
      "iter: 14/50 --> E: 0.0180262191  -Training_Accuracy:  98.46  -t: 818.53 \n",
      "iter: 15/50 --> E: 0.0161006152  -Training_Accuracy:  98.62  -t: 876.97 \n",
      "iter: 16/50 --> E: 0.0144264610  -Training_Accuracy:  98.76  -t: 935.49 \n",
      "iter: 17/50 --> E: 0.0131710569  -Training_Accuracy:  98.92  -t: 994.08 \n",
      "iter: 18/50 --> E: 0.0119343755  -Training_Accuracy:  98.99  -t: 1052.64 \n",
      "iter: 19/50 --> E: 0.0109694351  -Training_Accuracy:  99.11  -t: 1111.19 \n",
      "iter: 20/50 --> E: 0.0099937277  -Training_Accuracy:  99.18  -t: 1169.77 \n",
      "iter: 21/50 --> E: 0.0092192356  -Training_Accuracy:  99.24  -t: 1228.37 \n",
      "iter: 22/50 --> E: 0.0084608881  -Training_Accuracy:  99.29  -t: 1287.05 \n",
      "iter: 23/50 --> E: 0.0078663300  -Training_Accuracy:  99.35  -t: 1345.52 \n",
      "iter: 24/50 --> E: 0.0071906333  -Training_Accuracy:  99.37  -t: 1404.14 \n",
      "iter: 25/50 --> E: 0.0068096451  -Training_Accuracy:  99.42  -t: 1462.72 \n",
      "iter: 26/50 --> E: 0.0063020514  -Training_Accuracy:  99.45  -t: 1521.04 \n",
      "iter: 27/50 --> E: 0.0058426042  -Training_Accuracy:  99.47  -t: 1579.77 \n",
      "iter: 28/50 --> E: 0.0054993280  -Training_Accuracy:  99.50  -t: 1638.35 \n",
      "iter: 29/50 --> E: 0.0051215734  -Training_Accuracy:  99.52  -t: 1696.89 \n",
      "iter: 30/50 --> E: 0.0048133224  -Training_Accuracy:  99.53  -t: 1755.67 \n",
      "iter: 31/50 --> E: 0.0045444105  -Training_Accuracy:  99.54  -t: 1814.51 \n",
      "iter: 32/50 --> E: 0.0042985964  -Training_Accuracy:  99.56  -t: 1873.03 \n",
      "iter: 33/50 --> E: 0.0040748247  -Training_Accuracy:  99.57  -t: 1931.77 \n",
      "iter: 34/50 --> E: 0.0039118769  -Training_Accuracy:  99.58  -t: 1991.35 \n",
      "iter: 35/50 --> E: 0.0037387215  -Training_Accuracy:  99.60  -t: 2050.18 \n",
      "iter: 36/50 --> E: 0.0035779570  -Training_Accuracy:  99.60  -t: 2108.76 \n",
      "iter: 37/50 --> E: 0.0034408963  -Training_Accuracy:  99.61  -t: 2167.36 \n",
      "iter: 38/50 --> E: 0.0033085680  -Training_Accuracy:  99.62  -t: 2225.80 \n",
      "iter: 39/50 --> E: 0.0031904127  -Training_Accuracy:  99.63  -t: 2284.33 \n",
      "iter: 40/50 --> E: 0.0030745651  -Training_Accuracy:  99.64  -t: 2342.87 \n",
      "iter: 41/50 --> E: 0.0029690671  -Training_Accuracy:  99.65  -t: 2401.34 \n",
      "iter: 42/50 --> E: 0.0028886192  -Training_Accuracy:  99.66  -t: 2460.13 \n",
      "iter: 43/50 --> E: 0.0027937364  -Training_Accuracy:  99.67  -t: 2518.67 \n",
      "iter: 44/50 --> E: 0.0027078891  -Training_Accuracy:  99.68  -t: 2577.15 \n",
      "iter: 45/50 --> E: 0.0026278657  -Training_Accuracy:  99.69  -t: 2635.93 \n",
      "iter: 46/50 --> E: 0.0025547522  -Training_Accuracy:  99.69  -t: 2694.55 \n",
      "iter: 47/50 --> E: 0.0024790288  -Training_Accuracy:  99.70  -t: 2752.98 \n",
      "iter: 48/50 --> E: 0.0024167287  -Training_Accuracy:  99.70  -t: 2811.55 \n",
      "iter: 49/50 --> E: 0.0023396124  -Training_Accuracy:  99.71  -t: 2870.42 \n",
      "iter: 50/50 --> E: 0.0022917922  -Training_Accuracy:  99.70  -t: 2928.88 \n"
     ]
    },
    {
     "data": {
      "image/png": "[encoded data removed]",
      "text/plain": [
       "<matplotlib.figure.Figure at 0x18ccf6d9f98>"
      ]
     },
     "metadata": {},
     "output_type": "display_data"
    }
   ],
   "source": [
    "# 200 hidden neurons\n",
    "my_mnist_net_200 = nn.NNet(n_input=784,netDims=[200,10],n_iter=50,learn=0.1)\n",
    "Tr_acc200, Val_acc200 = my_mnist_net_200.train(training_data,validation_data, True, True, True)\n",
    "my_mnist_net_200.save(\"mnist_nD200-10_it50_l01.model\")"
   ]
  },
  {
   "cell_type": "code",
   "execution_count": 57,
   "metadata": {
    "collapsed": false,
    "deletable": true,
    "editable": true
   },
   "outputs": [
    {
     "name": "stdout",
     "output_type": "stream",
     "text": [
      "iter:  1/50 --> E: 4.4999999993  -Training_Accuracy:  9.53  -t: 92.14 \n",
      "iter:  2/50 --> E: 4.4999999993  -Training_Accuracy:  9.53  -t: 180.16 \n",
      "iter:  3/50 --> E: 4.4999999993  -Training_Accuracy:  9.53  -t: 266.47 \n",
      "iter:  4/50 --> E: 4.4999999993  -Training_Accuracy:  9.53  -t: 354.30 \n",
      "iter:  5/50 --> E: 4.4999999993  -Training_Accuracy:  9.53  -t: 441.10 \n",
      "iter:  6/50 --> E: 4.4999999993  -Training_Accuracy:  9.53  -t: 526.71 \n",
      "iter:  7/50 --> E: 4.4999999993  -Training_Accuracy:  9.53  -t: 611.72 \n",
      "iter:  8/50 --> E: 4.4999999993  -Training_Accuracy:  9.53  -t: 697.55 \n",
      "iter:  9/50 --> E: 4.4999999993  -Training_Accuracy:  9.53  -t: 783.60 \n",
      "iter: 10/50 --> E: 4.4999999993  -Training_Accuracy:  9.53  -t: 869.25 \n",
      "iter: 11/50 --> E: 4.4999999993  -Training_Accuracy:  9.53  -t: 955.03 \n",
      "iter: 12/50 --> E: 4.4999999993  -Training_Accuracy:  9.53  -t: 1040.62 \n",
      "iter: 13/50 --> E: 4.4999999993  -Training_Accuracy:  9.53  -t: 1126.60 \n",
      "iter: 14/50 --> E: 4.4999999993  -Training_Accuracy:  9.53  -t: 1212.94 \n",
      "iter: 15/50 --> E: 4.4999999993  -Training_Accuracy:  9.53  -t: 1298.98 \n",
      "iter: 16/50 --> E: 4.4999999993  -Training_Accuracy:  9.53  -t: 1385.74 \n",
      "iter: 17/50 --> E: 4.4999999993  -Training_Accuracy:  9.53  -t: 1472.98 \n",
      "iter: 18/50 --> E: 4.4999999993  -Training_Accuracy:  9.53  -t: 1560.08 \n",
      "iter: 19/50 --> E: 4.4999999993  -Training_Accuracy:  9.53  -t: 1647.06 \n",
      "iter: 20/50 --> E: 4.4999999993  -Training_Accuracy:  9.53  -t: 1734.99 \n",
      "iter: 21/50 --> E: 4.4999999993  -Training_Accuracy:  9.53  -t: 1822.31 \n",
      "iter: 22/50 --> E: 4.4999999993  -Training_Accuracy:  9.53  -t: 1909.83 \n",
      "iter: 23/50 --> E: 4.4999999993  -Training_Accuracy:  9.53  -t: 1997.67 \n",
      "iter: 24/50 --> E: 4.4999999993  -Training_Accuracy:  9.53  -t: 2085.11 \n",
      "iter: 25/50 --> E: 4.4999999993  -Training_Accuracy:  9.53  -t: 2172.26 \n",
      "iter: 26/50 --> E: 4.4999999993  -Training_Accuracy:  9.53  -t: 2259.67 \n",
      "iter: 27/50 --> E: 4.4999999993  -Training_Accuracy:  9.53  -t: 2347.19 \n",
      "iter: 28/50 --> E: 4.4999999993  -Training_Accuracy:  9.53  -t: 2434.95 \n",
      "iter: 29/50 --> E: 4.4999999993  -Training_Accuracy:  9.53  -t: 2523.29 \n",
      "iter: 30/50 --> E: 4.4999999993  -Training_Accuracy:  9.53  -t: 2611.83 \n",
      "iter: 31/50 --> E: 4.4999999993  -Training_Accuracy:  9.53  -t: 2700.26 \n",
      "iter: 32/50 --> E: 4.4999999993  -Training_Accuracy:  9.53  -t: 2789.01 \n",
      "iter: 33/50 --> E: 4.4999999993  -Training_Accuracy:  9.53  -t: 2877.83 \n",
      "iter: 34/50 --> E: 4.4999999993  -Training_Accuracy:  9.53  -t: 2966.45 \n",
      "iter: 35/50 --> E: 4.4999999993  -Training_Accuracy:  9.53  -t: 3055.36 \n",
      "iter: 36/50 --> E: 4.4999999993  -Training_Accuracy:  9.53  -t: 3144.07 \n",
      "iter: 37/50 --> E: 4.4999999993  -Training_Accuracy:  9.53  -t: 3232.30 \n",
      "iter: 38/50 --> E: 4.4999999993  -Training_Accuracy:  9.53  -t: 3320.96 \n",
      "iter: 39/50 --> E: 4.4999999993  -Training_Accuracy:  9.53  -t: 3409.32 \n",
      "iter: 40/50 --> E: 4.4999999993  -Training_Accuracy:  9.53  -t: 3497.60 \n",
      "iter: 41/50 --> E: 4.4999999993  -Training_Accuracy:  9.53  -t: 3586.21 \n",
      "iter: 42/50 --> E: 4.4999999993  -Training_Accuracy:  9.53  -t: 3674.60 \n",
      "iter: 43/50 --> E: 4.4999999993  -Training_Accuracy:  9.53  -t: 3763.41 \n",
      "iter: 44/50 --> E: 4.4999999993  -Training_Accuracy:  9.53  -t: 3852.54 \n",
      "iter: 45/50 --> E: 4.4999999993  -Training_Accuracy:  9.53  -t: 3941.38 \n",
      "iter: 46/50 --> E: 4.4999999993  -Training_Accuracy:  9.53  -t: 4030.06 \n",
      "iter: 47/50 --> E: 4.4999999993  -Training_Accuracy:  9.53  -t: 4119.11 \n",
      "iter: 48/50 --> E: 4.4999999993  -Training_Accuracy:  9.53  -t: 4207.76 \n",
      "iter: 49/50 --> E: 4.4999999993  -Training_Accuracy:  9.53  -t: 4298.95 \n",
      "iter: 50/50 --> E: 4.4999999993  -Training_Accuracy:  9.53  -t: 7319.00 \n"
     ]
    },
    {
     "data": {
      "image/png": "[encoded data removed]",
      "text/plain": [
       "<matplotlib.figure.Figure at 0x18ccf5e3438>"
      ]
     },
     "metadata": {},
     "output_type": "display_data"
    }
   ],
   "source": [
    "# 300 hidden neurons\n",
    "my_mnist_net_300 = nn.NNet(n_input=784,netDims=[300,10],n_iter=50,learn=0.1)\n",
    "Tr_acc300, Val_acc300 = my_mnist_net_300.train(training_data,validation_data, True, True, True)\n",
    "my_mnist_net_300.save(\"mnist_nD200-10_it50_l01.model\")"
   ]
  },
  {
   "cell_type": "code",
   "execution_count": 55,
   "metadata": {
    "collapsed": false
   },
   "outputs": [],
   "source": [
    "# Save all the accuracies\n",
    "Tr_accuracy ={'learn0.1':Tr_acc1,\n",
    "              'learn0.001':Tr_acc2,\n",
    "              'learn1':Tr_acc4,\n",
    "              'learn10':Tr_acc5,\n",
    "              'Weq0':Tr_acc0,\n",
    "              'tfTanh':Tr_accTanh,\n",
    "              'nHid100':Tr_acc100,\n",
    "              'nHid200':Tr_acc200}\n",
    "Val_accuracy ={'learn0.1':Val_acc1,\n",
    "              'learn0.001':Val_acc2,\n",
    "              'learn1':Val_acc4,\n",
    "              'learn10':Val_acc5,\n",
    "              'Weq0':Val_acc0,\n",
    "              'tfTanh':Val_accTanh,\n",
    "              'nHid100':Val_acc100,\n",
    "              'nHid200':Val_acc200}\n",
    "with open(\"Accuracies.vectors\", 'wb') as f:\n",
    "    pickle.dump({'Tr_accuracy':Tr_accuracy, 'Val_accuracy':Val_accuracy}, f )"
   ]
  },
  {
   "cell_type": "code",
   "execution_count": null,
   "metadata": {
    "collapsed": true
   },
   "outputs": [],
   "source": [
    "# Reload accuracies\n",
    "with open(\"Accuracies.vectors\", 'rb') as f:\n",
    "    data = pickle.load(f)\n",
    "Tr_accuracy = data['Tr_accuracy']\n",
    "Val_accuracy = data['Val_accuracy']"
   ]
  },
  {
   "cell_type": "markdown",
   "metadata": {
    "deletable": true,
    "editable": true
   },
   "source": [
    "<b> Question 2.2.5 : </b> Add one additionnal hidden layers and train your network, discuss your results with different setting. \n",
    "\n"
   ]
  },
  {
   "cell_type": "code",
   "execution_count": null,
   "metadata": {
    "collapsed": true,
    "deletable": true,
    "editable": true
   },
   "outputs": [],
   "source": [
    "#Your implementation goes here\n",
    "\n",
    "\n"
   ]
  },
  {
   "cell_type": "markdown",
   "metadata": {
    "deletable": true,
    "editable": true
   },
   "source": [
    "#Your answer goes here"
   ]
  }
 ],
 "metadata": {
  "kernelspec": {
   "display_name": "Python 3",
   "language": "python",
   "name": "python3"
  },
  "language_info": {
   "codemirror_mode": {
    "name": "ipython",
    "version": 3
   },
   "file_extension": ".py",
   "mimetype": "text/x-python",
   "name": "python",
   "nbconvert_exporter": "python",
   "pygments_lexer": "ipython3",
   "version": "3.6.0"
  }
 },
 "nbformat": 4,
 "nbformat_minor": 2
}
