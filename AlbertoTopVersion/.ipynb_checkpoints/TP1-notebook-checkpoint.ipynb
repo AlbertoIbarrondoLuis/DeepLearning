{
 "cells": [
  {
   "cell_type": "markdown",
   "metadata": {
    "collapsed": true,
    "deletable": true,
    "editable": true
   },
   "source": [
    "<h1 style=\"text-align:center\">Deep Learning  Lab Session </h1>\n",
    "<h1 style=\"text-align:center\">First Lab Session - 3 Hours </h1>\n",
    "<h1 style=\"text-align:center\">Artificial Neural Networks for Handwritten Digits Recognition</h1>"
   ]
  },
  {
   "cell_type": "markdown",
   "metadata": {
    "deletable": true,
    "editable": true
   },
   "source": [
    "<b> Student 1:</b> Benedetto Luca  \n",
    "<b> Student 2:</b> Ibarrondo Alberto\n",
    " \n",
    " \n",
    "The aim of this session is to practice with Artificial Neural Networks. Answers and experiments should be made by groups of one or two students. Each group should fill and run appropriate notebook cells. \n",
    "\n",
    "To generate your final report, use print as PDF (Ctrl+P). Do not forget to run all your cells before generating your final report and do not forget to include the names of all participants in the group. The lab session should be completed by April 7th 2017. "
   ]
  },
  {
   "cell_type": "markdown",
   "metadata": {
    "deletable": true,
    "editable": true
   },
   "source": [
    "# Introduction"
   ]
  },
  {
   "cell_type": "markdown",
   "metadata": {
    "deletable": true,
    "editable": true
   },
   "source": [
    "\n",
    "In this session, your will implement, train and test a Neural Network\n",
    "for the Handwritten Digits Recognition problem <a href=\"http://yann.lecun.com/exdb/mnist/\"> [1] </a> with  different settings of hyper parameters. You will use the MNIST dataset which was constructed from a number of scanned document dataset available from the National Institute of Standards and Technology (NIST). Images of digits were taken from a variety of scanned documents, normalized in size and centered. \n",
    "\n",
    "\n",
    "<img src=\"Nimages/mnist.png\",width=\"350\" height=\"500\" align=\"center\">\n",
    "<center><span>Figure 1: MNIST digits examples</span></center>\n",
    "\n",
    "\n",
    "This assignment includes a written part of programms to help you understand how to build and train\n",
    "your neural net and then to test your code and get restults. \n",
    "\n",
    "1. <a href=\"NNet.py\"> NeuralNetwork.py </a> \n",
    "2. <a href=\"transfer_functions.py\"> transfer_functions.py </a> \n",
    "3.  <a href=\"utils.py \"> utils.py </a> \n",
    "\n",
    "\n",
    "Functions defined inside the python files mentionned above can be imported  using the python command : \n",
    "from filename import *\n",
    "\n",
    "You will use the following libraries:\n",
    "\n",
    "1. <a href=\"http://cs231n.github.io/python-numpy-tutorial/\"> numpy </a>: for creating arrays and using methods to manipulate arrays.\n",
    "\n",
    "2. <a href=\"http://matplotlib.org/\"> matplotlib  </a>: for making plots\n",
    " \n",
    "\n",
    "\n",
    "\n",
    "\n",
    "\n",
    "\n"
   ]
  },
  {
   "cell_type": "markdown",
   "metadata": {
    "deletable": true,
    "editable": true
   },
   "source": [
    "# Section 1 :  My First Neural Network\n",
    "\n",
    "<b>Part 1</b>: Before designing and writing your code, you will first work on a neural network by hand. \n",
    "Consider the above Neural network with two inputs $X=(x1,x2)$, one hidden layers and a single output unit $(y)$.\n",
    "The initial weights are set to random values. Neurons 6 and 7 represent the bias. Bias values are equal to 1.  \n",
    "Training sample, X = (0.8, 0.2), whose class label is Y=0.4.\n",
    "\n",
    "Assume that the neurons have a Sigmoid activation function  $f(x)=\\frac{1}{(1+e^{-x})}$ and the learning rate $\\mu$=1\n",
    "\n",
    "\n",
    "<img src=\"Nimages/NN.png\", width=\"700\" height=\"900\"> \n",
    "<center><span>Figure 2: Neural network </span></center>\n",
    "\n",
    "\n",
    "<b>Question 1.1.1</b>: Compute the new values of weights $w_{i,j}$ after a forward pass and a backward pass.\n",
    "$w_{i,j}$ is the weight of the connexion between neuron $i$ and neuron $j$."
   ]
  },
  {
   "cell_type": "code",
   "execution_count": 1,
   "metadata": {
    "collapsed": false
   },
   "outputs": [],
   "source": [
    "import numpy as np\n",
    "import matplotlib as plt\n",
    "import NNet as nn\n",
    "import transfer_functions as tf"
   ]
  },
  {
   "cell_type": "code",
   "execution_count": 2,
   "metadata": {
    "collapsed": false
   },
   "outputs": [
    {
     "name": "stdout",
     "output_type": "stream",
     "text": [
      "u1 :  [ 0.6  -0.76]\n",
      "o1:  [ 0.64565631  0.31864627  1.        ]\n",
      "u2 :  0.240064722749\n",
      "o2:  0.55972959911\n",
      "w2 :  [-0.62541468  0.38745727  0.46063746]\n",
      "w1:  [[ 0.30432265 -0.50273473]\n",
      " [ 0.80108066  0.19931632]\n",
      " [ 0.20540332 -0.40341841]]\n"
     ]
    }
   ],
   "source": [
    "# Calculating manually all the values (printing has been supressed)\n",
    "# Initial values\n",
    "x = [0.8, 0.2]\n",
    "w1 = [[0.3, -0.5], [0.8, 0.2], [0.2, -0.4]]\n",
    "w2 = [-0.6, 0.4, 0.5]\n",
    "y = 0.4\n",
    "u = 1\n",
    "\n",
    "#Feedforward computation\n",
    "inpt = np.append(x, 1.0)\n",
    "\n",
    "u1 = np.dot(inpt, w1)\n",
    "o1 = np.append(tf.sigmoid(u1), 1.0)\n",
    "\n",
    "u2 = np.dot(o1, w2)\n",
    "o2 = tf.sigmoid(u2)\n",
    "\n",
    "\n",
    "#Backward computation\n",
    "E = (1.0/2.0)*((y-o2)**2.0)\n",
    "\n",
    "dEdu2 = (y-o2)*tf.dsigmoid(o2)\n",
    "dEdu1 = np.dot(w2, dEdu2)*tf.dsigmoid(o1)\n",
    "\n",
    "w2 += u*o1.T.dot(dEdu2)\n",
    "w1 += u*np.outer(inpt, dEdu1[:-1])\n",
    "\n",
    "print('u1 : ', u1)\n",
    "print('o1: ', o1)\n",
    "print('u2 : ', u2)\n",
    "print('o2: ', o2)\n",
    "print('w2 : ', w2)\n",
    "print('w1: ', w1)"
   ]
  },
  {
   "cell_type": "markdown",
   "metadata": {
    "collapsed": true,
    "deletable": true,
    "editable": true
   },
   "source": [
    "**Values Computed:\n",
    "\n",
    "$w_{1,3}=  0.30345983 $ \n",
    "\n",
    "$w_{1,4}=  -0.50218887 $\n",
    "\n",
    "$w_{2,3}= 0.80108066 $\n",
    "\n",
    "$w_{2,4}= 0.19931632 $\n",
    "\n",
    "$w_{6,3}= 0.20540332 $\n",
    "\n",
    "$w_{6,4}= -0.40341841 $\n",
    "\n",
    "$w_{3,5}= -0.62541468 $\n",
    "\n",
    "$w_{4,5}= 0.38745727 $\n",
    "\n",
    "$w_{7,5}= 0.46063746 $\n",
    "\n",
    "\n"
   ]
  },
  {
   "cell_type": "markdown",
   "metadata": {
    "deletable": true,
    "editable": true
   },
   "source": [
    "<b>Part 2</b>: Neural Network Implementation\n",
    "\n",
    "Please read all source files carefully and understand the data structures and all functions.\n",
    "You are to complete the missing code. \n",
    "First you should define the neural network (using the NeuralNetwork class, see in the <a href=\"NeuralNetwork.py\"> NeuralNetwork.py </a> file) and reinitialise weights. \n",
    "Then you will to complete the Feed Forward and the Back-propagation functions. \n",
    "\n",
    "<b>Question 1.2.1</b>: Define the neural network corresponding to the one in part 1"
   ]
  },
  {
   "cell_type": "code",
   "execution_count": 3,
   "metadata": {
    "collapsed": false,
    "deletable": true,
    "editable": true
   },
   "outputs": [],
   "source": [
    "#create the network\n",
    "my_nnet = nn.NNet(n_input=2,netDims=[2,1],learn=1)"
   ]
  },
  {
   "cell_type": "code",
   "execution_count": 4,
   "metadata": {
    "collapsed": false,
    "deletable": true,
    "editable": true
   },
   "outputs": [
    {
     "name": "stdout",
     "output_type": "stream",
     "text": [
      "[array([[ 0.3, -0.5],\n",
      "       [ 0.8,  0.2],\n",
      "       [ 0.2, -0.4]]), array([[-0.6],\n",
      "       [ 0.4],\n",
      "       [ 0.5]])]\n"
     ]
    }
   ],
   "source": [
    "#Data preparation\n",
    "X=[0.8,0.2]\n",
    "Y=[0.4]\n",
    "\n",
    "#initialize weights\n",
    "wi=np.array([[0.3,-0.5],[0.8,0.2],[0.2,-0.4]])\n",
    "wo=np.array([[-0.6],[0.4],[0.5]])\n",
    "\n",
    "my_nnet.init_w([wi,wo])\n",
    "print(my_nnet.W)"
   ]
  },
  {
   "cell_type": "markdown",
   "metadata": {
    "deletable": true,
    "editable": true
   },
   "source": [
    "<b>Question 1.2.2</b>: Implement the Feed Forward function (feedForward(X) in the NeuralNetwork.py file)\n",
    "\n"
   ]
  },
  {
   "cell_type": "raw",
   "metadata": {
    "collapsed": true
   },
   "source": [
    "def feedForward(selfa, inputs):\n",
    "    # Set input, leaving bias neuron untouched. Compute first activation\n",
    "    selfa.input[0:selfa.n_input-1] = inputs\n",
    "    selfa.values[0] = selfa.tf(np.append(np.dot(selfa.input, selfa.W[0]), 1.0))\n",
    "    \n",
    "    #Compute  hidden activations, all hidden layers except last one (output)\n",
    "    for layer in range(1, selfa.n_layers-1):\n",
    "        selfa.values[layer] = selfa.tf(np.append\n",
    "               ( np.dot(selfa.values[layer-1], selfa.W[layer]), 1.0))\n",
    "\n",
    "    # Compute output activations, without append since there is no bias neuron\n",
    "    selfa.values[-1] = selfa.tf(np.dot(selfa.values[-2], selfa.W[-1]))\n",
    "    selfa.output = selfa.values[-1]\n",
    "    \n",
    "    return selfa.values[-1]"
   ]
  },
  {
   "cell_type": "markdown",
   "metadata": {
    "deletable": true,
    "editable": true
   },
   "source": [
    "Check your network outputs the expected value (the one you computed in question 1.1)"
   ]
  },
  {
   "cell_type": "code",
   "execution_count": 5,
   "metadata": {
    "collapsed": false,
    "deletable": true,
    "editable": true
   },
   "outputs": [
    {
     "name": "stdout",
     "output_type": "stream",
     "text": [
      "output activation =0.560\n"
     ]
    }
   ],
   "source": [
    "# test my  Feed Forward function \n",
    "Output_activation=my_nnet.feedForward(X)\n",
    "print(\"output activation =%.3f\" %(Output_activation))"
   ]
  },
  {
   "cell_type": "markdown",
   "metadata": {
    "deletable": true,
    "editable": true
   },
   "source": [
    "<b>Question 1.2.3</b>: Implement the Back-propagation Algorithm (backPropagate(Y) in the NeuralNetwork.py file)  \n"
   ]
  },
  {
   "cell_type": "raw",
   "metadata": {
    "collapsed": false,
    "deletable": true,
    "editable": true
   },
   "source": [
    "def backPropagate(selfa, targets):\n",
    "    selfa.dEdU[-1] = (selfa.output-targets)*selfa.dtf(selfa.output)\n",
    "\n",
    "    # calculate error terms for hidden layers\n",
    "    for layer in range(selfa.n_layers-1, 0, -1):\n",
    "        selfa.dEdU[layer-1] = np.multiply(np.dot(selfa.W[layer],selfa.dEdU[layer]),\\\n",
    "                                       selfa.dtf(selfa.values[layer-1]))\n",
    "\n",
    "    # update network weights\n",
    "    selfa.W[-1] -= selfa.learn * np.outer(selfa.values[-2], selfa.dEdU[-1])\n",
    "\n",
    "    for layer in range(1, selfa.n_layers-1):\n",
    "        selfa.W[layer] -= selfa.learn * np.outer(selfa.values[layer-1],selfa.dEdU[layer][:-1])\n",
    "    selfa.W[0] -= selfa.learn * np.outer(selfa.input, selfa.dEdU[0][:-1])\n",
    "\n",
    "    # calculate error\n",
    "    E = (1.0/2.0)*((targets-selfa.output)**2.0)"
   ]
  },
  {
   "cell_type": "markdown",
   "metadata": {
    "deletable": true,
    "editable": true
   },
   "source": [
    "Check the gradient values and weight updates are correct (similar to the ones you computed in question 1.1)"
   ]
  },
  {
   "cell_type": "code",
   "execution_count": 6,
   "metadata": {
    "collapsed": false,
    "deletable": true,
    "editable": true
   },
   "outputs": [
    {
     "name": "stdout",
     "output_type": "stream",
     "text": [
      "[-0.62541468  0.38745727  0.46063746]\n",
      "[[-0.62541468  0.38745727  0.46063746]]\n",
      "[[ True  True  True]]\n",
      "[[ 0.30432265 -0.50273473]\n",
      " [ 0.80108066  0.19931632]\n",
      " [ 0.20540332 -0.40341841]]\n",
      "[[ 0.30432265 -0.50273473]\n",
      " [ 0.80108066  0.19931632]\n",
      " [ 0.20540332 -0.40341841]]\n",
      "[[ True  True]\n",
      " [ True  True]\n",
      " [ True  True]]\n"
     ]
    }
   ],
   "source": [
    "#test Back-propagation function\n",
    "wi=np.array([[0.3,-0.5],[0.8,0.2],[0.2,-0.4]])\n",
    "wo=np.array([[-0.6],[0.4],[0.5]])\n",
    "my_nnet.init_w([wi,wo])\n",
    "Output_activation=my_nnet.feedForward(X)\n",
    "my_nnet.backPropagate(Y)\n",
    "\n",
    "#Print weights after backpropagation and comparing\n",
    "print(w2)\n",
    "print(my_nnet.W[-1].T)\n",
    "print(my_nnet.W[-1].T==w2)\n",
    "print(w1)\n",
    "print(my_nnet.W[0])\n",
    "print(my_nnet.W[0]==w1)"
   ]
  },
  {
   "cell_type": "markdown",
   "metadata": {
    "deletable": true,
    "editable": true
   },
   "source": [
    "Your Feed Forward and Back-Propagation implementations are working, Great!! Let's tackle a real world problem."
   ]
  },
  {
   "cell_type": "markdown",
   "metadata": {
    "collapsed": true,
    "deletable": true,
    "editable": true
   },
   "source": [
    "# Section 2 : The MNIST Challenge! "
   ]
  },
  {
   "cell_type": "markdown",
   "metadata": {
    "deletable": true,
    "editable": true
   },
   "source": [
    "<b>Data Preparation</b>\n",
    "\n",
    "The MNIST dataset consists of handwritten digit images it contains 60,000 examples for the training set and 10,000 examples for testing. In this Lab Session, the official training set of 60,000 is divided into an actual training set of 50,000 examples, 10,000 validation examples and 10,000 examples for test. All digit images have been size-normalized and centered in a fixed size image of 28 x 28 pixels. The images are stored in byte form you will use the NumPy python library to read the data files into NumPy arrays that we will use to train the ANN.\n",
    "\n",
    "The MNIST dataset is available in the Data folder.\n",
    "To get the training, testing and validation data, run the the load_data() function.\n"
   ]
  },
  {
   "cell_type": "code",
   "execution_count": 7,
   "metadata": {
    "collapsed": false,
    "deletable": true,
    "editable": true
   },
   "outputs": [],
   "source": [
    "from utils import *\n",
    "import gzip\n",
    "\n",
    "np.random.seed(1990)\n",
    "\n",
    "with gzip.open('mnist.pkl.gz', 'r') as f:\n",
    "        train_set, valid_set, test_set = pickle.load(f, encoding='latin1')\n",
    "f.close()\n",
    "\n",
    "training_data = [(train_set[0][i], [1 if j == train_set[1][i] else 0 for j in range(10)]) \\\n",
    "            for i in np.arange(len(train_set[0]))]\n",
    "test_data = [(test_set[0][i], [1 if j == test_set[1][i] else 0 for j in range(10)]) \\\n",
    "            for i in np.arange(len(test_set[0]))]\n",
    "validation_data = [(valid_set[0][i], [1 if j == valid_set[1][i] else 0 for j in range(10)]) \\\n",
    "                    for i in np.arange(len(valid_set[0]))]"
   ]
  },
  {
   "cell_type": "markdown",
   "metadata": {
    "deletable": true,
    "editable": true
   },
   "source": [
    "<b>MNIST Dataset Digits Visualisation</b>"
   ]
  },
  {
   "cell_type": "code",
   "execution_count": 8,
   "metadata": {
    "collapsed": false,
    "deletable": true,
    "editable": true
   },
   "outputs": [
    {
     "data": {
      "image/png": "[encoded data removed]",
      "text/plain": [
       "<matplotlib.figure.Figure at 0x2a8a50e0a90>"
      ]
     },
     "metadata": {},
     "output_type": "display_data"
    }
   ],
   "source": [
    "ROW = 2\n",
    "COLUMN = 4\n",
    "for i in range(ROW * COLUMN):\n",
    "    # train[i][0] is i-th image data with size 28x28\n",
    "    image = training_data[i][0].reshape(28, 28)   \n",
    "    plt.subplot(ROW, COLUMN, i+1)          \n",
    "    plt.imshow(image, cmap='gray')  # cmap='gray' is for black and white picture.\n",
    "plt.axis('off')  # do not show axis value\n",
    "plt.tight_layout()   # automatic padding between subplots\n",
    "plt.show()\n",
    "\n"
   ]
  },
  {
   "cell_type": "markdown",
   "metadata": {
    "deletable": true,
    "editable": true
   },
   "source": [
    "<b>Part 1</b>: Creating the Neural Networks\n",
    "\n",
    "The input layer of the neural network contains neurons encoding the values of the input pixels. The training data for the network will consist of many 28 by 28 pixel images of scanned handwritten digits, and so the input layer contains 784=28×28 neurons. The second layer of the network is a hidden layer, we set the neuron number in the hidden layer to 30. The output layer contains 10 neurons. \n",
    "\n",
    "<b>Question 2.1.1</b>: Create the network described above using the NeuralNetwork class"
   ]
  },
  {
   "cell_type": "code",
   "execution_count": 9,
   "metadata": {
    "collapsed": false,
    "deletable": true,
    "editable": true
   },
   "outputs": [],
   "source": [
    "#create the network\n",
    "my_mnist_net = nn.NNet(n_input=784, netDims=[30,10], n_iter=50, learn=0.1)"
   ]
  },
  {
   "cell_type": "markdown",
   "metadata": {
    "deletable": true,
    "editable": true
   },
   "source": [
    "<b>Question 2.1.2</b>: Add the information about the performance of the neural network on the test set at each epoch"
   ]
  },
  {
   "cell_type": "code",
   "execution_count": 10,
   "metadata": {
    "collapsed": false,
    "deletable": true,
    "editable": true
   },
   "outputs": [
    {
     "name": "stdout",
     "output_type": "stream",
     "text": [
      "Test_Accuracy  9.28\n"
     ]
    }
   ],
   "source": [
    "test_accuracy=my_mnist_net.predict(test_data)/100\n",
    "print('Test_Accuracy  %-2.2f' % test_accuracy)"
   ]
  },
  {
   "cell_type": "markdown",
   "metadata": {
    "deletable": true,
    "editable": true
   },
   "source": [
    "<b>Question 2.1.3</b>: Train the Neural Network and comment your findings"
   ]
  },
  {
   "cell_type": "code",
   "execution_count": 11,
   "metadata": {
    "collapsed": false,
    "deletable": true,
    "editable": true,
    "scrolled": true
   },
   "outputs": [
    {
     "name": "stdout",
     "output_type": "stream",
     "text": [
      "iter:  1/50 --> E: 0.1147973388  -Training_Accuracy:  92.79  -t: 8.03 \n",
      "iter:  2/50 --> E: 0.0553362555  -Training_Accuracy:  94.49  -t: 15.88 \n",
      "iter:  3/50 --> E: 0.0456861361  -Training_Accuracy:  95.53  -t: 23.79 \n",
      "iter:  4/50 --> E: 0.0408844618  -Training_Accuracy:  95.75  -t: 31.67 \n",
      "iter:  5/50 --> E: 0.0374169214  -Training_Accuracy:  96.30  -t: 39.55 \n",
      "iter:  6/50 --> E: 0.0347601436  -Training_Accuracy:  96.32  -t: 47.48 \n",
      "iter:  7/50 --> E: 0.0329985071  -Training_Accuracy:  96.52  -t: 55.33 \n",
      "iter:  8/50 --> E: 0.0312234614  -Training_Accuracy:  96.80  -t: 63.28 \n",
      "iter:  9/50 --> E: 0.0298837979  -Training_Accuracy:  97.05  -t: 71.12 \n",
      "iter: 10/50 --> E: 0.0288048911  -Training_Accuracy:  97.16  -t: 79.00 \n",
      "iter: 11/50 --> E: 0.0275502516  -Training_Accuracy:  97.24  -t: 86.94 \n",
      "iter: 12/50 --> E: 0.0266483035  -Training_Accuracy:  97.39  -t: 94.85 \n",
      "iter: 13/50 --> E: 0.0258145082  -Training_Accuracy:  97.50  -t: 102.79 \n",
      "iter: 14/50 --> E: 0.0248970720  -Training_Accuracy:  97.61  -t: 110.68 \n",
      "iter: 15/50 --> E: 0.0241583811  -Training_Accuracy:  97.77  -t: 118.78 \n",
      "iter: 16/50 --> E: 0.0234566254  -Training_Accuracy:  97.79  -t: 126.92 \n",
      "iter: 17/50 --> E: 0.0228321190  -Training_Accuracy:  97.47  -t: 135.33 \n",
      "iter: 18/50 --> E: 0.0222547701  -Training_Accuracy:  97.94  -t: 143.23 \n",
      "iter: 19/50 --> E: 0.0217058345  -Training_Accuracy:  97.88  -t: 151.35 \n",
      "iter: 20/50 --> E: 0.0210515393  -Training_Accuracy:  97.99  -t: 159.54 \n",
      "iter: 21/50 --> E: 0.0206983081  -Training_Accuracy:  98.05  -t: 167.71 \n",
      "iter: 22/50 --> E: 0.0201379276  -Training_Accuracy:  97.91  -t: 175.66 \n",
      "iter: 23/50 --> E: 0.0199634118  -Training_Accuracy:  98.12  -t: 183.59 \n",
      "iter: 24/50 --> E: 0.0193877310  -Training_Accuracy:  98.12  -t: 191.47 \n",
      "iter: 25/50 --> E: 0.0189849534  -Training_Accuracy:  98.26  -t: 199.40 \n",
      "iter: 26/50 --> E: 0.0186349595  -Training_Accuracy:  98.26  -t: 207.29 \n",
      "iter: 27/50 --> E: 0.0182543092  -Training_Accuracy:  98.26  -t: 215.23 \n",
      "iter: 28/50 --> E: 0.0177926842  -Training_Accuracy:  98.28  -t: 223.14 \n",
      "iter: 29/50 --> E: 0.0176327682  -Training_Accuracy:  98.31  -t: 231.38 \n",
      "iter: 30/50 --> E: 0.0170640397  -Training_Accuracy:  98.35  -t: 239.93 \n",
      "iter: 31/50 --> E: 0.0168797115  -Training_Accuracy:  98.37  -t: 248.30 \n",
      "iter: 32/50 --> E: 0.0165992933  -Training_Accuracy:  98.38  -t: 256.43 \n",
      "iter: 33/50 --> E: 0.0164396123  -Training_Accuracy:  98.44  -t: 265.21 \n",
      "iter: 34/50 --> E: 0.0160046244  -Training_Accuracy:  98.43  -t: 273.72 \n",
      "iter: 35/50 --> E: 0.0158575558  -Training_Accuracy:  98.39  -t: 281.94 \n",
      "iter: 36/50 --> E: 0.0155338574  -Training_Accuracy:  98.44  -t: 289.86 \n",
      "iter: 37/50 --> E: 0.0153680970  -Training_Accuracy:  98.50  -t: 297.82 \n",
      "iter: 38/50 --> E: 0.0151950065  -Training_Accuracy:  98.46  -t: 305.73 \n",
      "iter: 39/50 --> E: 0.0149670859  -Training_Accuracy:  98.53  -t: 313.89 \n",
      "iter: 40/50 --> E: 0.0146800978  -Training_Accuracy:  98.46  -t: 321.95 \n",
      "iter: 41/50 --> E: 0.0143037657  -Training_Accuracy:  98.53  -t: 330.06 \n",
      "iter: 42/50 --> E: 0.0142719489  -Training_Accuracy:  98.54  -t: 338.11 \n",
      "iter: 43/50 --> E: 0.0140652390  -Training_Accuracy:  98.57  -t: 346.16 \n",
      "iter: 44/50 --> E: 0.0139481231  -Training_Accuracy:  98.49  -t: 354.27 \n",
      "iter: 45/50 --> E: 0.0136008247  -Training_Accuracy:  98.59  -t: 362.58 \n",
      "iter: 46/50 --> E: 0.0135190362  -Training_Accuracy:  98.60  -t: 370.45 \n",
      "iter: 47/50 --> E: 0.0133454012  -Training_Accuracy:  98.64  -t: 378.34 \n",
      "iter: 48/50 --> E: 0.0130880541  -Training_Accuracy:  98.66  -t: 386.33 \n",
      "iter: 49/50 --> E: 0.0130971693  -Training_Accuracy:  98.65  -t: 394.56 \n",
      "iter: 50/50 --> E: 0.0127649936  -Training_Accuracy:  98.63  -t: 402.72 \n"
     ]
    },
    {
     "data": {
      "image/png": "[encoded data removed]",
      "text/plain": [
       "<matplotlib.figure.Figure at 0x2a8a50ff1d0>"
      ]
     },
     "metadata": {},
     "output_type": "display_data"
    }
   ],
   "source": [
    "#train your network \n",
    "Tr_acc1, Val_acc1 = my_mnist_net.train(training_data,validation_data, True, True, True)\n",
    "my_mnist_net.save('mnist_nD30-10_it20_l01.model')"
   ]
  },
  {
   "cell_type": "code",
   "execution_count": 12,
   "metadata": {
    "collapsed": false
   },
   "outputs": [],
   "source": [
    "my_mnist_net.save('mnist_nD30-10_it20_l01.model')"
   ]
  },
  {
   "cell_type": "markdown",
   "metadata": {
    "collapsed": true,
    "deletable": true,
    "editable": true
   },
   "source": [
    "##### Observations:\n",
    "After iteration nº 10 there is almost no improvement in the accuracy on the validation test."
   ]
  },
  {
   "cell_type": "markdown",
   "metadata": {
    "deletable": true,
    "editable": true
   },
   "source": [
    "<b>Question 2.1.4</b>: Guess digit, Implement and test a python function that predict the class of a digit (the folder images_test contains some examples of images of digits)\n"
   ]
  },
  {
   "cell_type": "code",
   "execution_count": 13,
   "metadata": {
    "collapsed": false,
    "deletable": true,
    "editable": true
   },
   "outputs": [
    {
     "name": "stdout",
     "output_type": "stream",
     "text": [
      "7\n"
     ]
    }
   ],
   "source": [
    "#Your implementation goes here\n",
    "def guess(nnet_obj, digit_img):\n",
    "    digit_class = my_mnist_net.feedForward(digit_img)\n",
    "    return np.argmax(digit_class)\n",
    "    \n",
    "    \n",
    "digit_image = test_data[0][0]\n",
    "digit_val = guess(my_mnist_net, digit_img=digit_image)\n",
    "print(digit_val)"
   ]
  },
  {
   "cell_type": "markdown",
   "metadata": {
    "deletable": true,
    "editable": true
   },
   "source": [
    "<b>Part 2</b>: Change the neural network structure and parameters to optimize performance"
   ]
  },
  {
   "cell_type": "markdown",
   "metadata": {
    "collapsed": true,
    "deletable": true,
    "editable": true
   },
   "source": [
    "<b> Question 2.2.1</b>: Change the learning rate (0.001, 0.1, 1.0 , 10). Train the new neural nets with the original specifications (Part 2.1), for 50 iterations. \n",
    "Plot test accuracy vs iteration for each learning rate on the same graph. Report the maximum\n",
    "test accuracy achieved for each learning rate. Which one achieves the maximum test accuracy?"
   ]
  },
  {
   "cell_type": "code",
   "execution_count": 14,
   "metadata": {
    "collapsed": false,
    "deletable": true,
    "editable": true
   },
   "outputs": [
    {
     "name": "stdout",
     "output_type": "stream",
     "text": [
      "iter:  1/50 --> E: 0.5750299447  -Training_Accuracy:  29.38  -t: 8.69 \n",
      "iter:  2/50 --> E: 0.4163030463  -Training_Accuracy:  37.31  -t: 17.25 \n",
      "iter:  3/50 --> E: 0.3739675123  -Training_Accuracy:  52.12  -t: 25.61 \n",
      "iter:  4/50 --> E: 0.3310268428  -Training_Accuracy:  63.39  -t: 34.01 \n",
      "iter:  5/50 --> E: 0.2919505869  -Training_Accuracy:  70.87  -t: 42.37 \n",
      "iter:  6/50 --> E: 0.2574201758  -Training_Accuracy:  75.28  -t: 50.59 \n",
      "iter:  7/50 --> E: 0.2282355101  -Training_Accuracy:  78.30  -t: 59.02 \n",
      "iter:  8/50 --> E: 0.2046967249  -Training_Accuracy:  80.86  -t: 67.44 \n",
      "iter:  9/50 --> E: 0.1862060003  -Training_Accuracy:  82.57  -t: 75.84 \n",
      "iter: 10/50 --> E: 0.1714471452  -Training_Accuracy:  84.03  -t: 84.30 \n",
      "iter: 11/50 --> E: 0.1593253771  -Training_Accuracy:  85.09  -t: 92.69 \n",
      "iter: 12/50 --> E: 0.1492450400  -Training_Accuracy:  85.91  -t: 101.25 \n",
      "iter: 13/50 --> E: 0.1407860433  -Training_Accuracy:  86.48  -t: 109.67 \n",
      "iter: 14/50 --> E: 0.1336292585  -Training_Accuracy:  87.11  -t: 118.23 \n",
      "iter: 15/50 --> E: 0.1274952849  -Training_Accuracy:  87.55  -t: 127.03 \n",
      "iter: 16/50 --> E: 0.1222216991  -Training_Accuracy:  87.93  -t: 135.47 \n",
      "iter: 17/50 --> E: 0.1176152156  -Training_Accuracy:  88.28  -t: 143.83 \n",
      "iter: 18/50 --> E: 0.1135964364  -Training_Accuracy:  88.59  -t: 152.48 \n",
      "iter: 19/50 --> E: 0.1100456767  -Training_Accuracy:  88.86  -t: 161.06 \n",
      "iter: 20/50 --> E: 0.1068850359  -Training_Accuracy:  89.04  -t: 169.49 \n",
      "iter: 21/50 --> E: 0.1040450365  -Training_Accuracy:  89.25  -t: 177.97 \n",
      "iter: 22/50 --> E: 0.1014824544  -Training_Accuracy:  89.45  -t: 186.63 \n",
      "iter: 23/50 --> E: 0.0991614842  -Training_Accuracy:  89.63  -t: 195.38 \n",
      "iter: 24/50 --> E: 0.0970478546  -Training_Accuracy:  89.76  -t: 203.88 \n",
      "iter: 25/50 --> E: 0.0950956476  -Training_Accuracy:  89.99  -t: 212.48 \n",
      "iter: 26/50 --> E: 0.0933126571  -Training_Accuracy:  90.10  -t: 221.04 \n",
      "iter: 27/50 --> E: 0.0916589667  -Training_Accuracy:  90.23  -t: 229.64 \n",
      "iter: 28/50 --> E: 0.0901116597  -Training_Accuracy:  90.41  -t: 238.36 \n",
      "iter: 29/50 --> E: 0.0886814974  -Training_Accuracy:  90.52  -t: 247.00 \n",
      "iter: 30/50 --> E: 0.0873384869  -Training_Accuracy:  90.61  -t: 255.31 \n",
      "iter: 31/50 --> E: 0.0860814690  -Training_Accuracy:  90.72  -t: 263.81 \n",
      "iter: 32/50 --> E: 0.0849021891  -Training_Accuracy:  90.81  -t: 272.53 \n",
      "iter: 33/50 --> E: 0.0837814620  -Training_Accuracy:  90.90  -t: 281.24 \n",
      "iter: 34/50 --> E: 0.0827232309  -Training_Accuracy:  91.01  -t: 289.58 \n",
      "iter: 35/50 --> E: 0.0817270600  -Training_Accuracy:  91.09  -t: 297.90 \n",
      "iter: 36/50 --> E: 0.0807839389  -Training_Accuracy:  91.16  -t: 306.28 \n",
      "iter: 37/50 --> E: 0.0798780551  -Training_Accuracy:  91.27  -t: 314.75 \n",
      "iter: 38/50 --> E: 0.0790253457  -Training_Accuracy:  91.34  -t: 323.02 \n",
      "iter: 39/50 --> E: 0.0782028859  -Training_Accuracy:  91.41  -t: 331.25 \n",
      "iter: 40/50 --> E: 0.0774324525  -Training_Accuracy:  91.45  -t: 339.73 \n",
      "iter: 41/50 --> E: 0.0766811706  -Training_Accuracy:  91.53  -t: 348.24 \n",
      "iter: 42/50 --> E: 0.0759576694  -Training_Accuracy:  91.64  -t: 356.55 \n",
      "iter: 43/50 --> E: 0.0752914150  -Training_Accuracy:  91.67  -t: 364.94 \n",
      "iter: 44/50 --> E: 0.0746153629  -Training_Accuracy:  91.75  -t: 373.11 \n",
      "iter: 45/50 --> E: 0.0739705916  -Training_Accuracy:  91.76  -t: 381.50 \n",
      "iter: 46/50 --> E: 0.0733857698  -Training_Accuracy:  91.87  -t: 390.12 \n",
      "iter: 47/50 --> E: 0.0728001400  -Training_Accuracy:  91.92  -t: 398.40 \n",
      "iter: 48/50 --> E: 0.0722338628  -Training_Accuracy:  92.00  -t: 406.81 \n",
      "iter: 49/50 --> E: 0.0716804774  -Training_Accuracy:  92.05  -t: 415.15 \n",
      "iter: 50/50 --> E: 0.0711421346  -Training_Accuracy:  92.07  -t: 423.80 \n"
     ]
    },
    {
     "data": {
      "image/png": "[encoded data removed]",
      "text/plain": [
       "<matplotlib.figure.Figure at 0x2a8a50ffbe0>"
      ]
     },
     "metadata": {},
     "output_type": "display_data"
    }
   ],
   "source": [
    "# Implementation with a learning rate of 0.001 \n",
    "my_mnist_net2 = nn.NNet(n_input=784,netDims=[30,10],n_iter=50,learn=0.001)\n",
    "Tr_acc2, Val_acc2 = my_mnist_net2.train(training_data,validation_data, True, True, True)\n",
    "my_mnist_net2.save(\"mnist_nD30-10_it50_l0001.model\")"
   ]
  },
  {
   "cell_type": "code",
   "execution_count": 15,
   "metadata": {
    "collapsed": false,
    "deletable": true,
    "editable": true
   },
   "outputs": [
    {
     "name": "stdout",
     "output_type": "stream",
     "text": [
      "iter:  1/50 --> E: 0.0869943052  -Training_Accuracy:  92.77  -t: 8.52 \n",
      "iter:  2/50 --> E: 0.0616437472  -Training_Accuracy:  93.23  -t: 16.69 \n",
      "iter:  3/50 --> E: 0.0566070897  -Training_Accuracy:  93.92  -t: 25.10 \n",
      "iter:  4/50 --> E: 0.0529684859  -Training_Accuracy:  94.44  -t: 33.57 \n",
      "iter:  5/50 --> E: 0.0495543964  -Training_Accuracy:  94.10  -t: 42.33 \n",
      "iter:  6/50 --> E: 0.0486023943  -Training_Accuracy:  94.33  -t: 50.75 \n",
      "iter:  7/50 --> E: 0.0476317300  -Training_Accuracy:  94.74  -t: 59.28 \n",
      "iter:  8/50 --> E: 0.0464348046  -Training_Accuracy:  95.20  -t: 68.18 \n",
      "iter:  9/50 --> E: 0.0448266871  -Training_Accuracy:  95.05  -t: 76.87 \n",
      "iter: 10/50 --> E: 0.0444483969  -Training_Accuracy:  95.61  -t: 85.31 \n",
      "iter: 11/50 --> E: 0.0423387844  -Training_Accuracy:  95.33  -t: 93.63 \n",
      "iter: 12/50 --> E: 0.0414947883  -Training_Accuracy:  94.91  -t: 102.18 \n",
      "iter: 13/50 --> E: 0.0409368524  -Training_Accuracy:  95.43  -t: 110.68 \n",
      "iter: 14/50 --> E: 0.0406828149  -Training_Accuracy:  95.65  -t: 119.19 \n",
      "iter: 15/50 --> E: 0.0396263533  -Training_Accuracy:  95.37  -t: 128.09 \n",
      "iter: 16/50 --> E: 0.0390285316  -Training_Accuracy:  95.58  -t: 136.64 \n",
      "iter: 17/50 --> E: 0.0391683163  -Training_Accuracy:  96.12  -t: 144.82 \n",
      "iter: 18/50 --> E: 0.0373204663  -Training_Accuracy:  96.16  -t: 153.24 \n",
      "iter: 19/50 --> E: 0.0385252333  -Training_Accuracy:  95.88  -t: 162.24 \n",
      "iter: 20/50 --> E: 0.0370650365  -Training_Accuracy:  95.74  -t: 172.37 \n",
      "iter: 21/50 --> E: 0.0365606420  -Training_Accuracy:  96.27  -t: 181.73 \n",
      "iter: 22/50 --> E: 0.0352071166  -Training_Accuracy:  95.93  -t: 190.12 \n",
      "iter: 23/50 --> E: 0.0349661933  -Training_Accuracy:  96.15  -t: 198.52 \n",
      "iter: 24/50 --> E: 0.0351279882  -Training_Accuracy:  96.39  -t: 207.07 \n",
      "iter: 25/50 --> E: 0.0346201246  -Training_Accuracy:  96.29  -t: 215.42 \n",
      "iter: 26/50 --> E: 0.0335173137  -Training_Accuracy:  96.32  -t: 223.72 \n",
      "iter: 27/50 --> E: 0.0332820651  -Training_Accuracy:  96.52  -t: 232.08 \n",
      "iter: 28/50 --> E: 0.0328952733  -Training_Accuracy:  96.31  -t: 240.45 \n",
      "iter: 29/50 --> E: 0.0332991684  -Training_Accuracy:  96.36  -t: 249.05 \n",
      "iter: 30/50 --> E: 0.0328406520  -Training_Accuracy:  96.39  -t: 257.87 \n",
      "iter: 31/50 --> E: 0.0320786491  -Training_Accuracy:  96.46  -t: 266.34 \n",
      "iter: 32/50 --> E: 0.0323606912  -Training_Accuracy:  96.22  -t: 274.86 \n",
      "iter: 33/50 --> E: 0.0329196417  -Training_Accuracy:  96.69  -t: 283.51 \n",
      "iter: 34/50 --> E: 0.0321592196  -Training_Accuracy:  96.70  -t: 292.08 \n",
      "iter: 35/50 --> E: 0.0312963616  -Training_Accuracy:  96.67  -t: 300.99 \n",
      "iter: 36/50 --> E: 0.0328466620  -Training_Accuracy:  96.45  -t: 309.83 \n",
      "iter: 37/50 --> E: 0.0320993295  -Training_Accuracy:  96.38  -t: 318.73 \n",
      "iter: 38/50 --> E: 0.0312184469  -Training_Accuracy:  96.57  -t: 327.19 \n",
      "iter: 39/50 --> E: 0.0307414249  -Training_Accuracy:  96.58  -t: 335.81 \n",
      "iter: 40/50 --> E: 0.0310736935  -Training_Accuracy:  96.65  -t: 344.34 \n",
      "iter: 41/50 --> E: 0.0297107040  -Training_Accuracy:  96.81  -t: 352.65 \n",
      "iter: 42/50 --> E: 0.0309107600  -Training_Accuracy:  96.90  -t: 361.20 \n",
      "iter: 43/50 --> E: 0.0295105135  -Training_Accuracy:  96.97  -t: 369.80 \n",
      "iter: 44/50 --> E: 0.0288079727  -Training_Accuracy:  96.84  -t: 378.37 \n",
      "iter: 45/50 --> E: 0.0293670171  -Training_Accuracy:  96.69  -t: 387.00 \n",
      "iter: 46/50 --> E: 0.0300072902  -Training_Accuracy:  96.74  -t: 395.51 \n",
      "iter: 47/50 --> E: 0.0297783560  -Training_Accuracy:  96.94  -t: 404.11 \n",
      "iter: 48/50 --> E: 0.0287263193  -Training_Accuracy:  96.96  -t: 412.76 \n",
      "iter: 49/50 --> E: 0.0281946280  -Training_Accuracy:  97.00  -t: 421.34 \n",
      "iter: 50/50 --> E: 0.0283231795  -Training_Accuracy:  97.00  -t: 429.77 \n"
     ]
    },
    {
     "data": {
      "image/png": "[encoded data removed]",
      "text/plain": [
       "<matplotlib.figure.Figure at 0x2a8b22a2f28>"
      ]
     },
     "metadata": {},
     "output_type": "display_data"
    }
   ],
   "source": [
    "# Implementation with a learning rate of 1.0 \n",
    "my_mnist_net4 = nn.NNet(n_input=784,netDims=[30,10],n_iter=50,learn=1)\n",
    "Tr_acc4, Val_acc4 = my_mnist_net4.train(training_data,validation_data, True, True, True)\n",
    "my_mnist_net4.save(\"mnist_nD30-10_it50_l1.model\")"
   ]
  },
  {
   "cell_type": "code",
   "execution_count": 16,
   "metadata": {
    "collapsed": false,
    "deletable": true,
    "editable": true
   },
   "outputs": [
    {
     "name": "stderr",
     "output_type": "stream",
     "text": [
      "C:\\Users\\AlbertoIbarrondo\\Documents\\DeepLearning\\AlbertoTopVersion\\transfer_functions.py:2: RuntimeWarning: overflow encountered in exp\n",
      "  def sigmoid(x):  return 1 / (1 + np.exp(-x))\n"
     ]
    },
    {
     "name": "stdout",
     "output_type": "stream",
     "text": [
      "iter:  1/50 --> E: 0.5277766907  -Training_Accuracy:  12.04  -t: 8.45 \n",
      "iter:  2/50 --> E: 0.5001586211  -Training_Accuracy:  12.24  -t: 16.75 \n",
      "iter:  3/50 --> E: 0.4999279853  -Training_Accuracy:  11.10  -t: 25.16 \n",
      "iter:  4/50 --> E: 0.4999997894  -Training_Accuracy:  11.21  -t: 33.47 \n",
      "iter:  5/50 --> E: 0.4999999096  -Training_Accuracy:  10.36  -t: 41.98 \n",
      "iter:  6/50 --> E: 0.5000322736  -Training_Accuracy:  10.52  -t: 50.74 \n",
      "iter:  7/50 --> E: 0.4999996628  -Training_Accuracy:  10.37  -t: 60.13 \n",
      "iter:  8/50 --> E: 0.5000021289  -Training_Accuracy:  15.33  -t: 68.76 \n",
      "iter:  9/50 --> E: 0.5000208514  -Training_Accuracy:  10.48  -t: 77.24 \n",
      "iter: 10/50 --> E: 0.4999999882  -Training_Accuracy:  10.49  -t: 86.00 \n",
      "iter: 11/50 --> E: 0.4999999880  -Training_Accuracy:  10.51  -t: 94.36 \n",
      "iter: 12/50 --> E: 0.4999999878  -Training_Accuracy:  10.53  -t: 102.79 \n",
      "iter: 13/50 --> E: 0.4999999876  -Training_Accuracy:  10.54  -t: 111.06 \n",
      "iter: 14/50 --> E: 0.4999999874  -Training_Accuracy:  10.56  -t: 119.43 \n",
      "iter: 15/50 --> E: 0.4999999872  -Training_Accuracy:  10.59  -t: 127.65 \n",
      "iter: 16/50 --> E: 0.4999999869  -Training_Accuracy:  10.61  -t: 135.86 \n",
      "iter: 17/50 --> E: 0.4999999867  -Training_Accuracy:  10.65  -t: 144.23 \n",
      "iter: 18/50 --> E: 0.4999999864  -Training_Accuracy:  10.71  -t: 152.64 \n",
      "iter: 19/50 --> E: 0.4999999861  -Training_Accuracy:  10.90  -t: 161.12 \n",
      "iter: 20/50 --> E: 0.4999999858  -Training_Accuracy:  11.37  -t: 169.77 \n",
      "iter: 21/50 --> E: 0.4999999855  -Training_Accuracy:  11.43  -t: 178.44 \n",
      "iter: 22/50 --> E: 0.4999999851  -Training_Accuracy:  11.47  -t: 187.01 \n",
      "iter: 23/50 --> E: 0.4999999848  -Training_Accuracy:  11.51  -t: 195.57 \n",
      "iter: 24/50 --> E: 0.4999999844  -Training_Accuracy:  11.53  -t: 203.95 \n",
      "iter: 25/50 --> E: 0.4999999840  -Training_Accuracy:  11.54  -t: 212.29 \n",
      "iter: 26/50 --> E: 0.4999999835  -Training_Accuracy:  11.56  -t: 220.70 \n",
      "iter: 27/50 --> E: 0.4999999831  -Training_Accuracy:  11.58  -t: 229.10 \n",
      "iter: 28/50 --> E: 0.4999999825  -Training_Accuracy:  11.59  -t: 237.50 \n",
      "iter: 29/50 --> E: 0.4999999820  -Training_Accuracy:  11.60  -t: 245.85 \n",
      "iter: 30/50 --> E: 0.4999999813  -Training_Accuracy:  11.61  -t: 254.25 \n",
      "iter: 31/50 --> E: 0.4999999807  -Training_Accuracy:  11.63  -t: 262.64 \n",
      "iter: 32/50 --> E: 0.4999999799  -Training_Accuracy:  11.65  -t: 271.13 \n",
      "iter: 33/50 --> E: 0.4999999791  -Training_Accuracy:  11.68  -t: 279.50 \n",
      "iter: 34/50 --> E: 0.4999999781  -Training_Accuracy:  11.69  -t: 288.52 \n",
      "iter: 35/50 --> E: 0.4999999770  -Training_Accuracy:  11.70  -t: 298.45 \n",
      "iter: 36/50 --> E: 0.4999999758  -Training_Accuracy:  11.71  -t: 307.85 \n",
      "iter: 37/50 --> E: 0.4999999744  -Training_Accuracy:  11.73  -t: 316.51 \n",
      "iter: 38/50 --> E: 0.4999999727  -Training_Accuracy:  11.75  -t: 325.02 \n",
      "iter: 39/50 --> E: 0.4999999708  -Training_Accuracy:  11.78  -t: 333.68 \n",
      "iter: 40/50 --> E: 0.4999999683  -Training_Accuracy:  11.80  -t: 342.27 \n",
      "iter: 41/50 --> E: 0.4999999653  -Training_Accuracy:  11.83  -t: 350.86 \n",
      "iter: 42/50 --> E: 0.4999999613  -Training_Accuracy:  11.87  -t: 359.48 \n",
      "iter: 43/50 --> E: 0.4999999560  -Training_Accuracy:  11.89  -t: 368.05 \n",
      "iter: 44/50 --> E: 0.4999999484  -Training_Accuracy:  11.93  -t: 376.67 \n",
      "iter: 45/50 --> E: 0.4999999363  -Training_Accuracy:  12.01  -t: 385.31 \n",
      "iter: 46/50 --> E: 0.4999999144  -Training_Accuracy:  12.10  -t: 393.76 \n",
      "iter: 47/50 --> E: 0.4999998601  -Training_Accuracy:  12.66  -t: 402.41 \n",
      "iter: 48/50 --> E: 0.5000640842  -Training_Accuracy:  17.76  -t: 410.95 \n",
      "iter: 49/50 --> E: 0.4988409765  -Training_Accuracy:  20.06  -t: 419.55 \n",
      "iter: 50/50 --> E: 0.4999999801  -Training_Accuracy:  20.06  -t: 428.16 \n"
     ]
    },
    {
     "data": {
      "image/png": "[encoded data removed]",
      "text/plain": [
       "<matplotlib.figure.Figure at 0x2a8b428a320>"
      ]
     },
     "metadata": {},
     "output_type": "display_data"
    }
   ],
   "source": [
    "# Implementation with a learning rate of 10\n",
    "my_mnist_net5 = nn.NNet(n_input=784,netDims=[30,10],n_iter=50,learn=10)\n",
    "Tr_acc5, Val_acc5 = my_mnist_net5.train(training_data,validation_data, True, True, True)\n",
    "my_mnist_net5.save(\"mnist_nD30-10_it50_l10.model\")"
   ]
  },
  {
   "cell_type": "markdown",
   "metadata": {
    "deletable": true,
    "editable": true
   },
   "source": [
    "##### Answer: \n",
    "Clearly the best learning rate is 0.1.\n",
    "With 0.001 the learning curve steadily increases, but it's slower when compared to 0.1.\n",
    "The 1 learning rate starts fluctuating, achieving a lower final accuracy.\n",
    "Clearly, the learning rate of 10 is completely out of boundaries, not achieving almost any improvement at all"
   ]
  },
  {
   "cell_type": "markdown",
   "metadata": {
    "deletable": true,
    "editable": true
   },
   "source": [
    " <b> Question 2.2.2 : </b> initialize all weights to 0.  Plot the training accuracy curve.\n",
    "Comment your results\n",
    "    \n",
    "        "
   ]
  },
  {
   "cell_type": "code",
   "execution_count": 41,
   "metadata": {
    "collapsed": false,
    "deletable": true,
    "editable": true
   },
   "outputs": [
    {
     "name": "stdout",
     "output_type": "stream",
     "text": [
      "iter:  1/50 --> E: 0.4360764848  -Training_Accuracy:  26.88  -t: 7.68 \n",
      "iter:  2/50 --> E: 0.3743227806  -Training_Accuracy:  32.90  -t: 15.39 \n",
      "iter:  3/50 --> E: 0.3705950207  -Training_Accuracy:  32.34  -t: 23.08 \n",
      "iter:  4/50 --> E: 0.3696140427  -Training_Accuracy:  32.95  -t: 30.77 \n",
      "iter:  5/50 --> E: 0.3692155649  -Training_Accuracy:  34.30  -t: 38.54 \n",
      "iter:  6/50 --> E: 0.3688588240  -Training_Accuracy:  30.15  -t: 46.23 \n",
      "iter:  7/50 --> E: 0.3686415166  -Training_Accuracy:  35.33  -t: 53.94 \n",
      "iter:  8/50 --> E: 0.3683879569  -Training_Accuracy:  34.78  -t: 61.62 \n",
      "iter:  9/50 --> E: 0.3682828585  -Training_Accuracy:  31.22  -t: 69.27 \n",
      "iter: 10/50 --> E: 0.3681700236  -Training_Accuracy:  34.64  -t: 76.98 \n",
      "iter: 11/50 --> E: 0.3680377068  -Training_Accuracy:  32.76  -t: 84.68 \n",
      "iter: 12/50 --> E: 0.3679020981  -Training_Accuracy:  32.76  -t: 92.34 \n",
      "iter: 13/50 --> E: 0.3679037084  -Training_Accuracy:  34.85  -t: 100.02 \n",
      "iter: 14/50 --> E: 0.3677729088  -Training_Accuracy:  32.51  -t: 107.73 \n",
      "iter: 15/50 --> E: 0.3676689252  -Training_Accuracy:  34.17  -t: 115.44 \n",
      "iter: 16/50 --> E: 0.3675834522  -Training_Accuracy:  31.50  -t: 123.16 \n",
      "iter: 17/50 --> E: 0.3676100497  -Training_Accuracy:  33.38  -t: 131.09 \n",
      "iter: 18/50 --> E: 0.3674829612  -Training_Accuracy:  33.91  -t: 138.74 \n",
      "iter: 19/50 --> E: 0.3675027613  -Training_Accuracy:  35.10  -t: 146.43 \n",
      "iter: 20/50 --> E: 0.3673547770  -Training_Accuracy:  35.21  -t: 154.15 \n",
      "iter: 21/50 --> E: 0.3673646160  -Training_Accuracy:  34.35  -t: 161.85 \n",
      "iter: 22/50 --> E: 0.3673376218  -Training_Accuracy:  30.94  -t: 169.95 \n",
      "iter: 23/50 --> E: 0.3672907042  -Training_Accuracy:  37.19  -t: 177.94 \n",
      "iter: 24/50 --> E: 0.3672299234  -Training_Accuracy:  32.84  -t: 185.93 \n",
      "iter: 25/50 --> E: 0.3671584041  -Training_Accuracy:  34.89  -t: 194.08 \n",
      "iter: 26/50 --> E: 0.3671386629  -Training_Accuracy:  32.52  -t: 201.92 \n",
      "iter: 27/50 --> E: 0.3671663933  -Training_Accuracy:  33.85  -t: 209.56 \n",
      "iter: 28/50 --> E: 0.3670787732  -Training_Accuracy:  36.01  -t: 217.26 \n",
      "iter: 29/50 --> E: 0.3669763436  -Training_Accuracy:  34.31  -t: 224.94 \n",
      "iter: 30/50 --> E: 0.3670211321  -Training_Accuracy:  35.77  -t: 232.63 \n",
      "iter: 31/50 --> E: 0.3669802998  -Training_Accuracy:  35.15  -t: 240.30 \n",
      "iter: 32/50 --> E: 0.3669908084  -Training_Accuracy:  34.70  -t: 248.02 \n",
      "iter: 33/50 --> E: 0.3669381180  -Training_Accuracy:  35.49  -t: 255.69 \n",
      "iter: 34/50 --> E: 0.3669169742  -Training_Accuracy:  34.35  -t: 263.40 \n",
      "iter: 35/50 --> E: 0.3668547869  -Training_Accuracy:  34.70  -t: 271.10 \n",
      "iter: 36/50 --> E: 0.3668377015  -Training_Accuracy:  36.51  -t: 278.79 \n",
      "iter: 37/50 --> E: 0.3667899091  -Training_Accuracy:  34.78  -t: 286.54 \n",
      "iter: 38/50 --> E: 0.3668509092  -Training_Accuracy:  34.28  -t: 294.25 \n",
      "iter: 39/50 --> E: 0.3667957630  -Training_Accuracy:  36.15  -t: 301.92 \n",
      "iter: 40/50 --> E: 0.3667752691  -Training_Accuracy:  32.75  -t: 309.61 \n",
      "iter: 41/50 --> E: 0.3667078516  -Training_Accuracy:  34.71  -t: 317.34 \n",
      "iter: 42/50 --> E: 0.3666782115  -Training_Accuracy:  35.70  -t: 325.04 \n",
      "iter: 43/50 --> E: 0.3666134137  -Training_Accuracy:  33.23  -t: 332.73 \n",
      "iter: 44/50 --> E: 0.3667433318  -Training_Accuracy:  34.49  -t: 340.72 \n",
      "iter: 45/50 --> E: 0.3665809163  -Training_Accuracy:  35.24  -t: 348.67 \n",
      "iter: 46/50 --> E: 0.3665035353  -Training_Accuracy:  35.44  -t: 356.46 \n",
      "iter: 47/50 --> E: 0.3665417771  -Training_Accuracy:  36.28  -t: 364.28 \n",
      "iter: 48/50 --> E: 0.3665026379  -Training_Accuracy:  35.70  -t: 372.06 \n",
      "iter: 49/50 --> E: 0.3665086004  -Training_Accuracy:  34.90  -t: 379.89 \n",
      "iter: 50/50 --> E: 0.3665096320  -Training_Accuracy:  36.76  -t: 387.94 \n"
     ]
    },
    {
     "data": {
      "image/png": "[encoded data removed]",
      "text/plain": [
       "<matplotlib.figure.Figure at 0x18cd17ef780>"
      ]
     },
     "metadata": {},
     "output_type": "display_data"
    }
   ],
   "source": [
    "#Your implementation goes here\n",
    "my_mnist_net_all0 = nn.NNet(n_input=784,netDims=[30,10],n_iter=50,learn=0.1)\n",
    "W0_zeros = np.zeros([785,30])\n",
    "W1_zeros = np.zeros([31,10])\n",
    "my_mnist_net_all0.init_w([W0_zeros, W1_zeros])\n",
    "Tr_acc0, Val_acc0 = my_mnist_net_all0.train(training_data,validation_data, True, True, True)\n",
    "my_mnist_net_all0.save(\"mnistZeros_nD30-10_it50_l01.model\")"
   ]
  },
  {
   "cell_type": "markdown",
   "metadata": {
    "deletable": true,
    "editable": true
   },
   "source": [
    "##### Answer:\n",
    "Since al weights are symmetric, even when using the best learning rate (0.1), there is almost no improvement since there is no learning."
   ]
  },
  {
   "cell_type": "markdown",
   "metadata": {
    "deletable": true,
    "editable": true
   },
   "source": [
    "<b> Question 2.2.3 : </b> Try with a different transfer function (such as tanh).\n",
    " File transfer_functions.py provides you the python implementation of the tanh function and its derivative"
   ]
  },
  {
   "cell_type": "code",
   "execution_count": 17,
   "metadata": {
    "collapsed": false,
    "deletable": true,
    "editable": true
   },
   "outputs": [
    {
     "name": "stdout",
     "output_type": "stream",
     "text": [
      "iter:  1/50 --> E: 0.6551802134  -Training_Accuracy:  80.85  -t: 7.55 \n",
      "iter:  2/50 --> E: 0.3187645623  -Training_Accuracy:  86.62  -t: 15.06 \n",
      "iter:  3/50 --> E: 0.2254234698  -Training_Accuracy:  88.18  -t: 22.47 \n",
      "iter:  4/50 --> E: 0.2008916854  -Training_Accuracy:  88.65  -t: 29.82 \n",
      "iter:  5/50 --> E: 0.1886025766  -Training_Accuracy:  88.89  -t: 37.19 \n",
      "iter:  6/50 --> E: 0.1798545705  -Training_Accuracy:  89.18  -t: 44.50 \n",
      "iter:  7/50 --> E: 0.1751538077  -Training_Accuracy:  88.33  -t: 51.87 \n",
      "iter:  8/50 --> E: 0.1717451991  -Training_Accuracy:  88.70  -t: 59.26 \n",
      "iter:  9/50 --> E: 0.1651267158  -Training_Accuracy:  89.71  -t: 66.59 \n",
      "iter: 10/50 --> E: 0.1631927344  -Training_Accuracy:  89.75  -t: 73.98 \n",
      "iter: 11/50 --> E: 0.1603812964  -Training_Accuracy:  90.31  -t: 81.89 \n",
      "iter: 12/50 --> E: 0.1578629626  -Training_Accuracy:  86.83  -t: 89.59 \n",
      "iter: 13/50 --> E: 0.1561781881  -Training_Accuracy:  90.70  -t: 97.16 \n",
      "iter: 14/50 --> E: 0.1585662188  -Training_Accuracy:  90.25  -t: 104.66 \n",
      "iter: 15/50 --> E: 0.1550276907  -Training_Accuracy:  90.29  -t: 112.17 \n",
      "iter: 16/50 --> E: 0.1540838458  -Training_Accuracy:  90.71  -t: 119.59 \n",
      "iter: 17/50 --> E: 0.1526670973  -Training_Accuracy:  89.53  -t: 127.09 \n",
      "iter: 18/50 --> E: 0.1536943702  -Training_Accuracy:  90.42  -t: 135.03 \n",
      "iter: 19/50 --> E: 0.1506909296  -Training_Accuracy:  88.39  -t: 142.91 \n",
      "iter: 20/50 --> E: 0.1511284857  -Training_Accuracy:  88.86  -t: 150.49 \n",
      "iter: 21/50 --> E: 0.1487472069  -Training_Accuracy:  89.73  -t: 157.99 \n",
      "iter: 22/50 --> E: 0.1490044880  -Training_Accuracy:  90.68  -t: 165.52 \n",
      "iter: 23/50 --> E: 0.1471987331  -Training_Accuracy:  91.06  -t: 172.97 \n",
      "iter: 24/50 --> E: 0.1465759223  -Training_Accuracy:  90.00  -t: 180.31 \n",
      "iter: 25/50 --> E: 0.1469047242  -Training_Accuracy:  90.80  -t: 187.63 \n",
      "iter: 26/50 --> E: 0.1475381949  -Training_Accuracy:  91.01  -t: 195.00 \n",
      "iter: 27/50 --> E: 0.1461873132  -Training_Accuracy:  90.99  -t: 202.59 \n",
      "iter: 28/50 --> E: 0.1462962581  -Training_Accuracy:  90.99  -t: 210.40 \n",
      "iter: 29/50 --> E: 0.1455122107  -Training_Accuracy:  91.08  -t: 218.58 \n",
      "iter: 30/50 --> E: 0.1442139806  -Training_Accuracy:  91.65  -t: 226.79 \n",
      "iter: 31/50 --> E: 0.1430524037  -Training_Accuracy:  88.19  -t: 234.56 \n",
      "iter: 32/50 --> E: 0.1419424535  -Training_Accuracy:  80.62  -t: 242.05 \n",
      "iter: 33/50 --> E: 0.1422258316  -Training_Accuracy:  90.90  -t: 249.44 \n",
      "iter: 34/50 --> E: 0.1423085740  -Training_Accuracy:  90.68  -t: 257.09 \n",
      "iter: 35/50 --> E: 0.1423223483  -Training_Accuracy:  90.51  -t: 264.90 \n",
      "iter: 36/50 --> E: 0.1400285642  -Training_Accuracy:  90.94  -t: 272.38 \n",
      "iter: 37/50 --> E: 0.1396966826  -Training_Accuracy:  90.38  -t: 279.94 \n",
      "iter: 38/50 --> E: 0.1403713662  -Training_Accuracy:  91.11  -t: 288.00 \n",
      "iter: 39/50 --> E: 0.1409697874  -Training_Accuracy:  91.04  -t: 295.67 \n",
      "iter: 40/50 --> E: 0.1403633989  -Training_Accuracy:  90.79  -t: 303.35 \n",
      "iter: 41/50 --> E: 0.1393338393  -Training_Accuracy:  91.46  -t: 311.28 \n",
      "iter: 42/50 --> E: 0.1382701573  -Training_Accuracy:  91.53  -t: 318.89 \n",
      "iter: 43/50 --> E: 0.1381466756  -Training_Accuracy:  89.93  -t: 326.98 \n",
      "iter: 44/50 --> E: 0.1383648107  -Training_Accuracy:  91.31  -t: 334.59 \n",
      "iter: 45/50 --> E: 0.1377941233  -Training_Accuracy:  91.00  -t: 342.10 \n",
      "iter: 46/50 --> E: 0.1382886715  -Training_Accuracy:  91.77  -t: 349.60 \n",
      "iter: 47/50 --> E: 0.1375977170  -Training_Accuracy:  90.97  -t: 357.17 \n",
      "iter: 48/50 --> E: 0.1379894322  -Training_Accuracy:  91.05  -t: 364.59 \n",
      "iter: 49/50 --> E: 0.1369042682  -Training_Accuracy:  90.22  -t: 372.14 \n",
      "iter: 50/50 --> E: 0.1368395578  -Training_Accuracy:  89.79  -t: 379.72 \n"
     ]
    },
    {
     "data": {
      "image/png": "[encoded data removed]",
      "text/plain": [
       "<matplotlib.figure.Figure at 0x2a8b20559e8>"
      ]
     },
     "metadata": {},
     "output_type": "display_data"
    }
   ],
   "source": [
    "#Your implementation goes here\n",
    "my_mnist_net_tanh = nn.NNet(n_input=784,netDims=[30,10],n_iter=50,learn=0.1, tf=tf.tanh, dtf=tf.dtanh)\n",
    "Tr_accTanh, Val_accTanh = my_mnist_net_tanh.train(training_data,validation_data, True, True, True)\n",
    "my_mnist_net_tanh.save(\"mnistTanh_nD30-10_it50_l01.model\")"
   ]
  },
  {
   "cell_type": "markdown",
   "metadata": {
    "deletable": true,
    "editable": true
   },
   "source": [
    "##### Comments:\n",
    "It seems that not only does it achieve a lower final accuracy (~90%), but it oscillates periodically. Clearly we can state that sigmoid function is beter on this case"
   ]
  },
  {
   "cell_type": "markdown",
   "metadata": {
    "deletable": true,
    "editable": true
   },
   "source": [
    "\n",
    "<b> Question 2.2.4 : </b>  Add more neurons in the hidden layer (try with 100, 200, 300). Plot the curve representing the validation accuracy versus the number of neurons in the hidden layer.  (Choose and justify other hyper-parameters)"
   ]
  },
  {
   "cell_type": "code",
   "execution_count": 19,
   "metadata": {
    "collapsed": false,
    "deletable": true,
    "editable": true
   },
   "outputs": [
    {
     "name": "stdout",
     "output_type": "stream",
     "text": [
      "iter:  1/50 --> E: 0.1486648873  -Training_Accuracy:  93.83  -t: 46.37 \n",
      "iter:  2/50 --> E: 0.0481223547  -Training_Accuracy:  95.63  -t: 94.01 \n",
      "iter:  3/50 --> E: 0.0373463533  -Training_Accuracy:  96.54  -t: 150.01 \n",
      "iter:  4/50 --> E: 0.0311599441  -Training_Accuracy:  97.18  -t: 202.76 \n",
      "iter:  5/50 --> E: 0.0270190395  -Training_Accuracy:  97.49  -t: 256.61 \n",
      "iter:  6/50 --> E: 0.0238932706  -Training_Accuracy:  97.79  -t: 310.90 \n",
      "iter:  7/50 --> E: 0.0214591803  -Training_Accuracy:  98.10  -t: 365.59 \n",
      "iter:  8/50 --> E: 0.0193909499  -Training_Accuracy:  98.32  -t: 416.36 \n",
      "iter:  9/50 --> E: 0.0177294226  -Training_Accuracy:  98.39  -t: 458.78 \n",
      "iter: 10/50 --> E: 0.0164367169  -Training_Accuracy:  98.63  -t: 498.48 \n",
      "iter: 11/50 --> E: 0.0150771843  -Training_Accuracy:  98.69  -t: 536.39 \n",
      "iter: 12/50 --> E: 0.0139723445  -Training_Accuracy:  98.79  -t: 573.80 \n",
      "iter: 13/50 --> E: 0.0129469392  -Training_Accuracy:  98.83  -t: 611.77 \n",
      "iter: 14/50 --> E: 0.0120800595  -Training_Accuracy:  98.94  -t: 649.14 \n",
      "iter: 15/50 --> E: 0.0112620433  -Training_Accuracy:  99.02  -t: 686.08 \n",
      "iter: 16/50 --> E: 0.0106686530  -Training_Accuracy:  99.05  -t: 723.14 \n",
      "iter: 17/50 --> E: 0.0099812965  -Training_Accuracy:  99.14  -t: 760.11 \n",
      "iter: 18/50 --> E: 0.0094097889  -Training_Accuracy:  99.16  -t: 797.20 \n",
      "iter: 19/50 --> E: 0.0088456838  -Training_Accuracy:  99.20  -t: 834.20 \n",
      "iter: 20/50 --> E: 0.0083832652  -Training_Accuracy:  99.21  -t: 871.07 \n",
      "iter: 21/50 --> E: 0.0079313001  -Training_Accuracy:  99.27  -t: 908.05 \n",
      "iter: 22/50 --> E: 0.0074355455  -Training_Accuracy:  99.32  -t: 945.05 \n",
      "iter: 23/50 --> E: 0.0070681225  -Training_Accuracy:  99.34  -t: 982.04 \n",
      "iter: 24/50 --> E: 0.0068185048  -Training_Accuracy:  99.35  -t: 1018.88 \n",
      "iter: 25/50 --> E: 0.0064542181  -Training_Accuracy:  99.39  -t: 1055.76 \n",
      "iter: 26/50 --> E: 0.0061486633  -Training_Accuracy:  99.39  -t: 1092.60 \n",
      "iter: 27/50 --> E: 0.0058865883  -Training_Accuracy:  99.41  -t: 1129.92 \n",
      "iter: 28/50 --> E: 0.0056448655  -Training_Accuracy:  99.42  -t: 1166.74 \n",
      "iter: 29/50 --> E: 0.0053946926  -Training_Accuracy:  99.44  -t: 1203.66 \n",
      "iter: 30/50 --> E: 0.0051916567  -Training_Accuracy:  99.45  -t: 1240.55 \n",
      "iter: 31/50 --> E: 0.0050034353  -Training_Accuracy:  99.46  -t: 1280.83 \n",
      "iter: 32/50 --> E: 0.0048122344  -Training_Accuracy:  99.46  -t: 1319.52 \n",
      "iter: 33/50 --> E: 0.0046555936  -Training_Accuracy:  99.47  -t: 1357.36 \n",
      "iter: 34/50 --> E: 0.0044748580  -Training_Accuracy:  99.48  -t: 1394.38 \n",
      "iter: 35/50 --> E: 0.0043066606  -Training_Accuracy:  99.50  -t: 1431.67 \n",
      "iter: 36/50 --> E: 0.0042218592  -Training_Accuracy:  99.50  -t: 1470.14 \n",
      "iter: 37/50 --> E: 0.0040896211  -Training_Accuracy:  99.51  -t: 1508.69 \n",
      "iter: 38/50 --> E: 0.0040077006  -Training_Accuracy:  99.52  -t: 1546.27 \n",
      "iter: 39/50 --> E: 0.0038888060  -Training_Accuracy:  99.52  -t: 1583.44 \n",
      "iter: 40/50 --> E: 0.0037954427  -Training_Accuracy:  99.54  -t: 1625.37 \n",
      "iter: 41/50 --> E: 0.0037097560  -Training_Accuracy:  99.54  -t: 1668.39 \n",
      "iter: 42/50 --> E: 0.0036302499  -Training_Accuracy:  99.55  -t: 1706.24 \n",
      "iter: 43/50 --> E: 0.0035158455  -Training_Accuracy:  99.55  -t: 1752.10 \n",
      "iter: 44/50 --> E: 0.0034520999  -Training_Accuracy:  99.56  -t: 1793.07 \n",
      "iter: 45/50 --> E: 0.0033721018  -Training_Accuracy:  99.57  -t: 1837.70 \n",
      "iter: 46/50 --> E: 0.0033273868  -Training_Accuracy:  99.57  -t: 1878.48 \n",
      "iter: 47/50 --> E: 0.0032597245  -Training_Accuracy:  99.57  -t: 1916.24 \n",
      "iter: 48/50 --> E: 0.0032032391  -Training_Accuracy:  99.58  -t: 1955.88 \n",
      "iter: 49/50 --> E: 0.0031536687  -Training_Accuracy:  99.58  -t: 1993.84 \n",
      "iter: 50/50 --> E: 0.0030854841  -Training_Accuracy:  99.59  -t: 2032.86 \n"
     ]
    },
    {
     "data": {
      "image/png": "[encoded data removed]",
      "text/plain": [
       "<matplotlib.figure.Figure at 0x2a8b4285dd8>"
      ]
     },
     "metadata": {},
     "output_type": "display_data"
    }
   ],
   "source": [
    "# 100 hidden neurons\n",
    "my_mnist_net_100 = nn.NNet(n_input=784,netDims=[100,10],n_iter=50,learn=0.1)\n",
    "Tr_acc100, Val_acc100 = my_mnist_net_100.train(training_data,validation_data, True, True, True)\n",
    "my_mnist_net_100.save(\"mnist_nD100-10_it50_l01.model\")"
   ]
  },
  {
   "cell_type": "code",
   "execution_count": 21,
   "metadata": {
    "collapsed": false
   },
   "outputs": [
    {
     "name": "stdout",
     "output_type": "stream",
     "text": [
      "iter:  1/50 --> E: 4.4999983929  -Training_Accuracy:  13.93  -t: 66.67 \n",
      "iter:  2/50 --> E: 4.4999981394  -Training_Accuracy:  13.85  -t: 135.88 \n",
      "iter:  3/50 --> E: 4.4999977801  -Training_Accuracy:  13.74  -t: 202.61 \n",
      "iter:  4/50 --> E: 4.4999972208  -Training_Accuracy:  13.62  -t: 271.98 \n",
      "iter:  5/50 --> E: 4.4999961881  -Training_Accuracy:  13.50  -t: 340.52 \n",
      "iter:  6/50 --> E: 4.4999931642  -Training_Accuracy:  13.36  -t: 409.19 \n",
      "iter:  7/50 --> E: 4.2696162814  -Training_Accuracy:  11.62  -t: 477.48 \n",
      "iter:  8/50 --> E: 0.8136454887  -Training_Accuracy:  92.97  -t: 544.22 \n",
      "iter:  9/50 --> E: 0.0509215721  -Training_Accuracy:  95.14  -t: 618.90 \n",
      "iter: 10/50 --> E: 0.0380593811  -Training_Accuracy:  96.40  -t: 687.48 \n",
      "iter: 11/50 --> E: 0.0311215563  -Training_Accuracy:  97.03  -t: 759.22 \n",
      "iter: 12/50 --> E: 0.0262554340  -Training_Accuracy:  97.50  -t: 824.82 \n",
      "iter: 13/50 --> E: 0.0227428447  -Training_Accuracy:  98.02  -t: 890.90 \n",
      "iter: 14/50 --> E: 0.0200161531  -Training_Accuracy:  98.30  -t: 957.99 \n",
      "iter: 15/50 --> E: 0.0178362423  -Training_Accuracy:  98.48  -t: 1026.82 \n",
      "iter: 16/50 --> E: 0.0159113496  -Training_Accuracy:  98.69  -t: 1097.33 \n",
      "iter: 17/50 --> E: 0.0145313265  -Training_Accuracy:  98.80  -t: 1164.69 \n",
      "iter: 18/50 --> E: 0.0130241812  -Training_Accuracy:  98.91  -t: 1232.44 \n",
      "iter: 19/50 --> E: 0.0118651899  -Training_Accuracy:  99.04  -t: 1304.70 \n",
      "iter: 20/50 --> E: 0.0108024943  -Training_Accuracy:  99.16  -t: 1373.97 \n",
      "iter: 21/50 --> E: 0.0099066161  -Training_Accuracy:  99.18  -t: 1440.93 \n",
      "iter: 22/50 --> E: 0.0090870950  -Training_Accuracy:  99.25  -t: 1509.60 \n",
      "iter: 23/50 --> E: 0.0083637677  -Training_Accuracy:  99.29  -t: 1575.12 \n",
      "iter: 24/50 --> E: 0.0076999964  -Training_Accuracy:  99.35  -t: 1643.00 \n",
      "iter: 25/50 --> E: 0.0071878357  -Training_Accuracy:  99.39  -t: 1711.24 \n",
      "iter: 26/50 --> E: 0.0066516290  -Training_Accuracy:  99.41  -t: 1776.33 \n",
      "iter: 27/50 --> E: 0.0062573276  -Training_Accuracy:  99.43  -t: 1841.51 \n",
      "iter: 28/50 --> E: 0.0058616831  -Training_Accuracy:  99.47  -t: 1908.28 \n",
      "iter: 29/50 --> E: 0.0054684152  -Training_Accuracy:  99.49  -t: 1975.82 \n",
      "iter: 30/50 --> E: 0.0051409496  -Training_Accuracy:  99.50  -t: 2047.22 \n",
      "iter: 31/50 --> E: 0.0048156459  -Training_Accuracy:  99.52  -t: 2115.99 \n",
      "iter: 32/50 --> E: 0.0045425009  -Training_Accuracy:  99.53  -t: 2184.97 \n",
      "iter: 33/50 --> E: 0.0043482776  -Training_Accuracy:  99.54  -t: 2254.23 \n",
      "iter: 34/50 --> E: 0.0041039209  -Training_Accuracy:  99.56  -t: 2326.64 \n",
      "iter: 35/50 --> E: 0.0039312526  -Training_Accuracy:  99.57  -t: 2400.09 \n",
      "iter: 36/50 --> E: 0.0037732251  -Training_Accuracy:  99.58  -t: 2470.21 \n",
      "iter: 37/50 --> E: 0.0036208538  -Training_Accuracy:  99.59  -t: 2539.89 \n",
      "iter: 38/50 --> E: 0.0034969571  -Training_Accuracy:  99.60  -t: 2607.26 \n",
      "iter: 39/50 --> E: 0.0033416947  -Training_Accuracy:  99.60  -t: 2676.31 \n",
      "iter: 40/50 --> E: 0.0032299487  -Training_Accuracy:  99.61  -t: 2746.20 \n",
      "iter: 41/50 --> E: 0.0031325509  -Training_Accuracy:  99.62  -t: 2816.91 \n",
      "iter: 42/50 --> E: 0.0030437148  -Training_Accuracy:  99.62  -t: 2886.77 \n",
      "iter: 43/50 --> E: 0.0029576864  -Training_Accuracy:  99.63  -t: 2952.29 \n",
      "iter: 44/50 --> E: 0.0028784952  -Training_Accuracy:  99.64  -t: 3017.97 \n",
      "iter: 45/50 --> E: 0.0028120449  -Training_Accuracy:  99.64  -t: 3085.21 \n",
      "iter: 46/50 --> E: 0.0027396760  -Training_Accuracy:  99.65  -t: 3152.80 \n",
      "iter: 47/50 --> E: 0.0026819551  -Training_Accuracy:  99.66  -t: 3219.55 \n",
      "iter: 48/50 --> E: 0.0026173603  -Training_Accuracy:  99.66  -t: 3287.27 \n",
      "iter: 49/50 --> E: 0.0025639354  -Training_Accuracy:  99.67  -t: 3356.84 \n",
      "iter: 50/50 --> E: 0.0025067429  -Training_Accuracy:  99.67  -t: 3426.28 \n"
     ]
    },
    {
     "data": {
      "image/png": "[encoded data removed]",
      "text/plain": [
       "<matplotlib.figure.Figure at 0x2a8b2180320>"
      ]
     },
     "metadata": {},
     "output_type": "display_data"
    }
   ],
   "source": [
    "# 200 hidden neurons\n",
    "my_mnist_net_200 = nn.NNet(n_input=784,netDims=[200,10],n_iter=50,learn=0.1)\n",
    "Tr_acc200, Val_acc200 = my_mnist_net_200.train(training_data,validation_data, True, True, True)\n",
    "my_mnist_net_200.save(\"mnist_nD200-10_it50_l01.model\")"
   ]
  },
  {
   "cell_type": "code",
   "execution_count": null,
   "metadata": {
    "collapsed": false,
    "deletable": true,
    "editable": true
   },
   "outputs": [
    {
     "name": "stdout",
     "output_type": "stream",
     "text": [
      "iter:  1/50 --> E: 0.4441412432  -Training_Accuracy:  29.16  -t: 85.88 \n",
      "iter:  2/50 --> E: 0.2720600324  -Training_Accuracy:  80.05  -t: 171.15 \n",
      "iter:  3/50 --> E: 0.1423929235  -Training_Accuracy:  88.16  -t: 258.33 \n"
     ]
    }
   ],
   "source": [
    "# 300 hidden neurons\n",
    "#my_mnist_net_300 = nn.NNet(n_input=784,netDims=[300,10],n_iter=50,learn=0.01)\n",
    "\n",
    "Tr_acc300, Val_acc300 = my_mnist_net_300.train(training_data,validation_data, True, True, True)\n"
   ]
  },
  {
   "cell_type": "code",
   "execution_count": null,
   "metadata": {
    "collapsed": false
   },
   "outputs": [],
   "source": [
    "my_mnist_net_300.save('mnist_nD300-10_it50_l01.model')"
   ]
  },
  {
   "cell_type": "code",
   "execution_count": 22,
   "metadata": {
    "collapsed": false
   },
   "outputs": [
    {
     "data": {
      "text/plain": [
       "array([[3, 4]])"
      ]
     },
     "execution_count": 22,
     "metadata": {},
     "output_type": "execute_result"
    }
   ],
   "source": [
    "W =np.array([[1,2],[3,4],[5,6]])\n",
    "W[1:-1]"
   ]
  },
  {
   "cell_type": "code",
   "execution_count": 55,
   "metadata": {
    "collapsed": false
   },
   "outputs": [],
   "source": [
    "# Save all the accuracies\n",
    "Tr_accuracy ={'learn0.1':Tr_acc1,\n",
    "              'learn0.001':Tr_acc2,\n",
    "              'learn1':Tr_acc4,\n",
    "              'learn10':Tr_acc5,\n",
    "              'Weq0':Tr_acc0,\n",
    "              'tfTanh':Tr_accTanh,\n",
    "              'nHid100':Tr_acc100,\n",
    "              'nHid200':Tr_acc200}\n",
    "Val_accuracy ={'learn0.1':Val_acc1,\n",
    "              'learn0.001':Val_acc2,\n",
    "              'learn1':Val_acc4,\n",
    "              'learn10':Val_acc5,\n",
    "              'Weq0':Val_acc0,\n",
    "              'tfTanh':Val_accTanh,\n",
    "              'nHid100':Val_acc100,\n",
    "              'nHid200':Val_acc200}\n",
    "with open(\"Accuracies.vectors\", 'wb') as f:\n",
    "    pickle.dump({'Tr_accuracy':Tr_accuracy, 'Val_accuracy':Val_accuracy}, f )"
   ]
  },
  {
   "cell_type": "code",
   "execution_count": null,
   "metadata": {
    "collapsed": true
   },
   "outputs": [],
   "source": [
    "# Reload accuracies\n",
    "with open(\"Accuracies.vectors\", 'rb') as f:\n",
    "    data = pickle.load(f)\n",
    "Tr_accuracy = data['Tr_accuracy']\n",
    "Val_accuracy = data['Val_accuracy']"
   ]
  },
  {
   "cell_type": "markdown",
   "metadata": {
    "deletable": true,
    "editable": true
   },
   "source": [
    "<b> Question 2.2.5 : </b> Add one additionnal hidden layers and train your network, discuss your results with different setting. \n",
    "\n"
   ]
  },
  {
   "cell_type": "code",
   "execution_count": 97,
   "metadata": {
    "collapsed": false,
    "deletable": true,
    "editable": true
   },
   "outputs": [
    {
     "ename": "ValueError",
     "evalue": "shapes (31,30) and (31,) not aligned: 30 (dim 1) != 31 (dim 0)",
     "output_type": "error",
     "traceback": [
      "\u001b[0;31m---------------------------------------------------------------------------\u001b[0m",
      "\u001b[0;31mValueError\u001b[0m                                Traceback (most recent call last)",
      "\u001b[0;32m<ipython-input-97-4d2b4f05b77b>\u001b[0m in \u001b[0;36m<module>\u001b[0;34m()\u001b[0m\n\u001b[1;32m      1\u001b[0m \u001b[1;31m#Your implementation goes here\u001b[0m\u001b[1;33m\u001b[0m\u001b[1;33m\u001b[0m\u001b[0m\n\u001b[1;32m      2\u001b[0m \u001b[0mmy_final_net\u001b[0m \u001b[1;33m=\u001b[0m \u001b[0mnn\u001b[0m\u001b[1;33m.\u001b[0m\u001b[0mNNet\u001b[0m\u001b[1;33m(\u001b[0m\u001b[0mn_input\u001b[0m\u001b[1;33m=\u001b[0m\u001b[1;36m784\u001b[0m\u001b[1;33m,\u001b[0m\u001b[0mnetDims\u001b[0m\u001b[1;33m=\u001b[0m\u001b[1;33m[\u001b[0m\u001b[1;36m30\u001b[0m\u001b[1;33m,\u001b[0m \u001b[1;36m30\u001b[0m\u001b[1;33m,\u001b[0m \u001b[1;36m10\u001b[0m\u001b[1;33m]\u001b[0m\u001b[1;33m,\u001b[0m\u001b[0mn_iter\u001b[0m\u001b[1;33m=\u001b[0m\u001b[1;36m50\u001b[0m\u001b[1;33m,\u001b[0m\u001b[0mlearn\u001b[0m\u001b[1;33m=\u001b[0m\u001b[1;36m0.05\u001b[0m\u001b[1;33m)\u001b[0m\u001b[1;33m\u001b[0m\u001b[0m\n\u001b[0;32m----> 3\u001b[0;31m \u001b[0mTr_accFin\u001b[0m\u001b[1;33m,\u001b[0m \u001b[0mVal_accFin\u001b[0m \u001b[1;33m=\u001b[0m \u001b[0mmy_final_net\u001b[0m\u001b[1;33m.\u001b[0m\u001b[0mtrain\u001b[0m\u001b[1;33m(\u001b[0m\u001b[0mtraining_data\u001b[0m\u001b[1;33m,\u001b[0m\u001b[0mvalidation_data\u001b[0m\u001b[1;33m,\u001b[0m \u001b[1;32mTrue\u001b[0m\u001b[1;33m,\u001b[0m \u001b[1;32mTrue\u001b[0m\u001b[1;33m,\u001b[0m \u001b[1;32mTrue\u001b[0m\u001b[1;33m)\u001b[0m\u001b[1;33m\u001b[0m\u001b[0m\n\u001b[0m\u001b[1;32m      4\u001b[0m \u001b[0mmy_final_net\u001b[0m\u001b[1;33m.\u001b[0m\u001b[0msave\u001b[0m\u001b[1;33m(\u001b[0m\u001b[1;34m\"mnist_nD30-30-10_it50_l005.model\"\u001b[0m\u001b[1;33m)\u001b[0m\u001b[1;33m\u001b[0m\u001b[0m\n\u001b[1;32m      5\u001b[0m \u001b[1;33m\u001b[0m\u001b[0m\n",
      "\u001b[0;32mC:\\Users\\AlbertoIbarrondo\\Documents\\DeepLearning\\AlbertoTopVersion\\NNet.py\u001b[0m in \u001b[0;36mtrain\u001b[0;34m(self, data, validation_data, flag_printIter, flag_valid, flag_plot)\u001b[0m\n\u001b[1;32m    107\u001b[0m                 \u001b[0mTarget\u001b[0m \u001b[1;33m=\u001b[0m \u001b[0mtargets\u001b[0m\u001b[1;33m[\u001b[0m\u001b[0mi\u001b[0m\u001b[1;33m]\u001b[0m\u001b[1;33m\u001b[0m\u001b[0m\n\u001b[1;32m    108\u001b[0m                 \u001b[0mself\u001b[0m\u001b[1;33m.\u001b[0m\u001b[0mfeedForward\u001b[0m\u001b[1;33m(\u001b[0m\u001b[0mInput\u001b[0m\u001b[1;33m)\u001b[0m\u001b[1;33m\u001b[0m\u001b[0m\n\u001b[0;32m--> 109\u001b[0;31m                 \u001b[0merror\u001b[0m\u001b[1;33m+=\u001b[0m\u001b[0mself\u001b[0m\u001b[1;33m.\u001b[0m\u001b[0mbackPropagate\u001b[0m\u001b[1;33m(\u001b[0m\u001b[0mTarget\u001b[0m\u001b[1;33m)\u001b[0m\u001b[1;33m\u001b[0m\u001b[0m\n\u001b[0m\u001b[1;32m    110\u001b[0m \u001b[1;33m\u001b[0m\u001b[0m\n\u001b[1;32m    111\u001b[0m             \u001b[1;31m# Measure accuracy\u001b[0m\u001b[1;33m\u001b[0m\u001b[1;33m\u001b[0m\u001b[0m\n",
      "\u001b[0;32mC:\\Users\\AlbertoIbarrondo\\Documents\\DeepLearning\\AlbertoTopVersion\\NNet.py\u001b[0m in \u001b[0;36mbackPropagate\u001b[0;34m(self, targets)\u001b[0m\n\u001b[1;32m     74\u001b[0m         \u001b[1;31m# calculate error terms for hidden layers\u001b[0m\u001b[1;33m\u001b[0m\u001b[1;33m\u001b[0m\u001b[0m\n\u001b[1;32m     75\u001b[0m         \u001b[1;32mfor\u001b[0m \u001b[0mlayer\u001b[0m \u001b[1;32min\u001b[0m \u001b[0mrange\u001b[0m\u001b[1;33m(\u001b[0m\u001b[0mself\u001b[0m\u001b[1;33m.\u001b[0m\u001b[0mn_layers\u001b[0m\u001b[1;33m-\u001b[0m\u001b[1;36m1\u001b[0m\u001b[1;33m,\u001b[0m \u001b[1;36m0\u001b[0m\u001b[1;33m,\u001b[0m \u001b[1;33m-\u001b[0m\u001b[1;36m1\u001b[0m\u001b[1;33m)\u001b[0m\u001b[1;33m:\u001b[0m\u001b[1;33m\u001b[0m\u001b[0m\n\u001b[0;32m---> 76\u001b[0;31m             self.dEdU[layer-1] = np.multiply(np.dot(self.W[layer],self.dEdU[layer]),\\\n\u001b[0m\u001b[1;32m     77\u001b[0m                                            self.dtf(self.values[layer-1]))\n\u001b[1;32m     78\u001b[0m \u001b[1;33m\u001b[0m\u001b[0m\n",
      "\u001b[0;31mValueError\u001b[0m: shapes (31,30) and (31,) not aligned: 30 (dim 1) != 31 (dim 0)"
     ]
    }
   ],
   "source": [
    "#Your implementation goes here\n",
    "my_final_net = nn.NNet(n_input=784,netDims=[30, 30, 10],n_iter=50,learn=0.05)\n",
    "Tr_accFin, Val_accFin = my_final_net.train(training_data,validation_data, True, True, True)\n",
    "my_final_net.save(\"mnist_nD30-30-10_it50_l005.model\")\n",
    "\n"
   ]
  },
  {
   "cell_type": "markdown",
   "metadata": {
    "deletable": true,
    "editable": true
   },
   "source": [
    "#Your answer goes here"
   ]
  }
 ],
 "metadata": {
  "kernelspec": {
   "display_name": "Python 3",
   "language": "python",
   "name": "python3"
  },
  "language_info": {
   "codemirror_mode": {
    "name": "ipython",
    "version": 3
   },
   "file_extension": ".py",
   "mimetype": "text/x-python",
   "name": "python",
   "nbconvert_exporter": "python",
   "pygments_lexer": "ipython3",
   "version": "3.6.0"
  }
 },
 "nbformat": 4,
 "nbformat_minor": 2
}
